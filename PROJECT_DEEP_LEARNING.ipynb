{
  "nbformat": 4,
  "nbformat_minor": 0,
  "metadata": {
    "kernelspec": {
      "display_name": "Python 3",
      "language": "python",
      "name": "python3"
    },
    "language_info": {
      "codemirror_mode": {
        "name": "ipython",
        "version": 3
      },
      "file_extension": ".py",
      "mimetype": "text/x-python",
      "name": "python",
      "nbconvert_exporter": "python",
      "pygments_lexer": "ipython3",
      "version": "3.8.5"
    },
    "colab": {
      "name": "PROJECT_DEEP_LEARNING.ipynb",
      "provenance": [],
      "collapsed_sections": [
        "a8I6oisqcCYj",
        "s972RllhY7ak",
        "V8fKfW1DfY2S",
        "cQ1-bgI3ixW0",
        "qfqV0QghSQTE",
        "IrnS78XMpgD2",
        "_NviO7Vypvr7",
        "XmkGyrRyrOh5",
        "01hYYdwhvbX4"
      ]
    }
  },
  "cells": [
    {
      "cell_type": "markdown",
      "source": [
        "Project ini merupakan tugas kelompok mata kuliah deep learning di semester 6. Dosen meminta untuk melakukan perbandingan hasil akurasi dari sebuah dataset menggunakan masing-masing 3 algoritma machine learning dan deep learning.\n",
        "Kelompok saya terdiri dari 3 anggota dan menggunakan healthcare stroke dataset yang diambil dari halaman https://www.kaggle.com/fedesoriano/stroke-prediction-dataset.\n",
        "Algoritma machine learning yang digunakan yaitu Naive Bayes, Decission Tree, dan SVM.\n",
        "Algoritma deep learning yang digunakan yaitu CONV1D, RNN-LSTM, dan RNN-GRU "
      ],
      "metadata": {
        "id": "zFp4cTNHVXxF"
      }
    },
    {
      "cell_type": "markdown",
      "metadata": {
        "id": "a8I6oisqcCYj"
      },
      "source": [
        "# **1. Mempersiapkan Dataset**"
      ]
    },
    {
      "cell_type": "markdown",
      "metadata": {
        "id": "lot_zrPBgkbd"
      },
      "source": [
        "Link Dataset Stroke Prediction : https://www.kaggle.com/fedesoriano/stroke-prediction-dataset\n",
        "<br> Attribute Information :<br>\n",
        "1) id: unique identifier<br>\n",
        "2) gender: \"Male\", \"Female\" or \"Other\"<br>\n",
        "3) age: age of the patient<br>\n",
        "4) hypertension: 0 if the patient doesn't have hypertension, 1 if the patient has hypertension<br>\n",
        "5) heart_disease: 0 if the patient doesn't have any heart diseases, 1 if the patient has a heart disease<br>\n",
        "6) ever_married: \"No\" or \"Yes\"<br>\n",
        "7) work_type: \"children\", \"Govt_jov\", \"Never_worked\", \"Private\" or \"Self-employed\"<br>\n",
        "8) Residence_type: \"Rural\" or \"Urban\"<br>\n",
        "9) avg_glucose_level: average glucose level in blood<br>\n",
        "10) bmi: body mass index<br>\n",
        "11) smoking_status: \"formerly smoked\", \"never smoked\", \"smokes\" or \"Unknown\"*<br>\n",
        "12) stroke: 1 if the patient had a stroke or 0 if not<br>\n",
        "*Note: \"Unknown\" di smoking_status berarti informasi tidak tersedia untuk pasien ini"
      ]
    },
    {
      "cell_type": "code",
      "metadata": {
        "id": "BwlLlSgPRVYw"
      },
      "source": [
        "#Mengimpor library yang akan digunakan dalam melakukan pre-processing data\n",
        "import pandas as pd\n",
        "import numpy as np\n",
        "import matplotlib.pyplot as plt\n",
        "import seaborn as sns\n",
        "\n",
        "\n",
        "#Library untuk model\n",
        "from tensorflow.keras.models import Sequential\n",
        "from keras.optimizers import Adam, SGD\n",
        "from tensorflow.keras.layers import Dense, Dropout, LSTM\n",
        "from keras.layers.recurrent import GRU\n",
        "from keras.layers import Flatten, Conv1D, MaxPool1D\n",
        "from keras.callbacks import ModelCheckpoint"
      ],
      "execution_count": null,
      "outputs": []
    },
    {
      "cell_type": "code",
      "metadata": {
        "id": "PFQ2M72hRVYy"
      },
      "source": [
        "#Melakukan read data csv menggunakan pandas\n",
        "df = pd.read_csv(\"healthcare-dataset-stroke-data.csv\")"
      ],
      "execution_count": null,
      "outputs": []
    },
    {
      "cell_type": "code",
      "metadata": {
        "id": "Y7yH697mRVYy",
        "colab": {
          "base_uri": "https://localhost:8080/",
          "height": 419
        },
        "outputId": "2b5c5b6c-9118-4528-d386-099be78d0afa"
      },
      "source": [
        "#Menampilkan 5 data pertama\n",
        "df.head()\n",
        "df"
      ],
      "execution_count": null,
      "outputs": [
        {
          "output_type": "execute_result",
          "data": {
            "text/html": [
              "<div>\n",
              "<style scoped>\n",
              "    .dataframe tbody tr th:only-of-type {\n",
              "        vertical-align: middle;\n",
              "    }\n",
              "\n",
              "    .dataframe tbody tr th {\n",
              "        vertical-align: top;\n",
              "    }\n",
              "\n",
              "    .dataframe thead th {\n",
              "        text-align: right;\n",
              "    }\n",
              "</style>\n",
              "<table border=\"1\" class=\"dataframe\">\n",
              "  <thead>\n",
              "    <tr style=\"text-align: right;\">\n",
              "      <th></th>\n",
              "      <th>id</th>\n",
              "      <th>gender</th>\n",
              "      <th>age</th>\n",
              "      <th>hypertension</th>\n",
              "      <th>heart_disease</th>\n",
              "      <th>ever_married</th>\n",
              "      <th>work_type</th>\n",
              "      <th>Residence_type</th>\n",
              "      <th>avg_glucose_level</th>\n",
              "      <th>bmi</th>\n",
              "      <th>smoking_status</th>\n",
              "      <th>stroke</th>\n",
              "    </tr>\n",
              "  </thead>\n",
              "  <tbody>\n",
              "    <tr>\n",
              "      <th>0</th>\n",
              "      <td>9046</td>\n",
              "      <td>Male</td>\n",
              "      <td>67.0</td>\n",
              "      <td>0</td>\n",
              "      <td>1</td>\n",
              "      <td>Yes</td>\n",
              "      <td>Private</td>\n",
              "      <td>Urban</td>\n",
              "      <td>228.69</td>\n",
              "      <td>36.6</td>\n",
              "      <td>formerly smoked</td>\n",
              "      <td>1</td>\n",
              "    </tr>\n",
              "    <tr>\n",
              "      <th>1</th>\n",
              "      <td>51676</td>\n",
              "      <td>Female</td>\n",
              "      <td>61.0</td>\n",
              "      <td>0</td>\n",
              "      <td>0</td>\n",
              "      <td>Yes</td>\n",
              "      <td>Self-employed</td>\n",
              "      <td>Rural</td>\n",
              "      <td>202.21</td>\n",
              "      <td>NaN</td>\n",
              "      <td>never smoked</td>\n",
              "      <td>1</td>\n",
              "    </tr>\n",
              "    <tr>\n",
              "      <th>2</th>\n",
              "      <td>31112</td>\n",
              "      <td>Male</td>\n",
              "      <td>80.0</td>\n",
              "      <td>0</td>\n",
              "      <td>1</td>\n",
              "      <td>Yes</td>\n",
              "      <td>Private</td>\n",
              "      <td>Rural</td>\n",
              "      <td>105.92</td>\n",
              "      <td>32.5</td>\n",
              "      <td>never smoked</td>\n",
              "      <td>1</td>\n",
              "    </tr>\n",
              "    <tr>\n",
              "      <th>3</th>\n",
              "      <td>60182</td>\n",
              "      <td>Female</td>\n",
              "      <td>49.0</td>\n",
              "      <td>0</td>\n",
              "      <td>0</td>\n",
              "      <td>Yes</td>\n",
              "      <td>Private</td>\n",
              "      <td>Urban</td>\n",
              "      <td>171.23</td>\n",
              "      <td>34.4</td>\n",
              "      <td>smokes</td>\n",
              "      <td>1</td>\n",
              "    </tr>\n",
              "    <tr>\n",
              "      <th>4</th>\n",
              "      <td>1665</td>\n",
              "      <td>Female</td>\n",
              "      <td>79.0</td>\n",
              "      <td>1</td>\n",
              "      <td>0</td>\n",
              "      <td>Yes</td>\n",
              "      <td>Self-employed</td>\n",
              "      <td>Rural</td>\n",
              "      <td>174.12</td>\n",
              "      <td>24.0</td>\n",
              "      <td>never smoked</td>\n",
              "      <td>1</td>\n",
              "    </tr>\n",
              "    <tr>\n",
              "      <th>...</th>\n",
              "      <td>...</td>\n",
              "      <td>...</td>\n",
              "      <td>...</td>\n",
              "      <td>...</td>\n",
              "      <td>...</td>\n",
              "      <td>...</td>\n",
              "      <td>...</td>\n",
              "      <td>...</td>\n",
              "      <td>...</td>\n",
              "      <td>...</td>\n",
              "      <td>...</td>\n",
              "      <td>...</td>\n",
              "    </tr>\n",
              "    <tr>\n",
              "      <th>5105</th>\n",
              "      <td>18234</td>\n",
              "      <td>Female</td>\n",
              "      <td>80.0</td>\n",
              "      <td>1</td>\n",
              "      <td>0</td>\n",
              "      <td>Yes</td>\n",
              "      <td>Private</td>\n",
              "      <td>Urban</td>\n",
              "      <td>83.75</td>\n",
              "      <td>NaN</td>\n",
              "      <td>never smoked</td>\n",
              "      <td>0</td>\n",
              "    </tr>\n",
              "    <tr>\n",
              "      <th>5106</th>\n",
              "      <td>44873</td>\n",
              "      <td>Female</td>\n",
              "      <td>81.0</td>\n",
              "      <td>0</td>\n",
              "      <td>0</td>\n",
              "      <td>Yes</td>\n",
              "      <td>Self-employed</td>\n",
              "      <td>Urban</td>\n",
              "      <td>125.20</td>\n",
              "      <td>40.0</td>\n",
              "      <td>never smoked</td>\n",
              "      <td>0</td>\n",
              "    </tr>\n",
              "    <tr>\n",
              "      <th>5107</th>\n",
              "      <td>19723</td>\n",
              "      <td>Female</td>\n",
              "      <td>35.0</td>\n",
              "      <td>0</td>\n",
              "      <td>0</td>\n",
              "      <td>Yes</td>\n",
              "      <td>Self-employed</td>\n",
              "      <td>Rural</td>\n",
              "      <td>82.99</td>\n",
              "      <td>30.6</td>\n",
              "      <td>never smoked</td>\n",
              "      <td>0</td>\n",
              "    </tr>\n",
              "    <tr>\n",
              "      <th>5108</th>\n",
              "      <td>37544</td>\n",
              "      <td>Male</td>\n",
              "      <td>51.0</td>\n",
              "      <td>0</td>\n",
              "      <td>0</td>\n",
              "      <td>Yes</td>\n",
              "      <td>Private</td>\n",
              "      <td>Rural</td>\n",
              "      <td>166.29</td>\n",
              "      <td>25.6</td>\n",
              "      <td>formerly smoked</td>\n",
              "      <td>0</td>\n",
              "    </tr>\n",
              "    <tr>\n",
              "      <th>5109</th>\n",
              "      <td>44679</td>\n",
              "      <td>Female</td>\n",
              "      <td>44.0</td>\n",
              "      <td>0</td>\n",
              "      <td>0</td>\n",
              "      <td>Yes</td>\n",
              "      <td>Govt_job</td>\n",
              "      <td>Urban</td>\n",
              "      <td>85.28</td>\n",
              "      <td>26.2</td>\n",
              "      <td>Unknown</td>\n",
              "      <td>0</td>\n",
              "    </tr>\n",
              "  </tbody>\n",
              "</table>\n",
              "<p>5110 rows × 12 columns</p>\n",
              "</div>"
            ],
            "text/plain": [
              "         id  gender   age  ...   bmi   smoking_status stroke\n",
              "0      9046    Male  67.0  ...  36.6  formerly smoked      1\n",
              "1     51676  Female  61.0  ...   NaN     never smoked      1\n",
              "2     31112    Male  80.0  ...  32.5     never smoked      1\n",
              "3     60182  Female  49.0  ...  34.4           smokes      1\n",
              "4      1665  Female  79.0  ...  24.0     never smoked      1\n",
              "...     ...     ...   ...  ...   ...              ...    ...\n",
              "5105  18234  Female  80.0  ...   NaN     never smoked      0\n",
              "5106  44873  Female  81.0  ...  40.0     never smoked      0\n",
              "5107  19723  Female  35.0  ...  30.6     never smoked      0\n",
              "5108  37544    Male  51.0  ...  25.6  formerly smoked      0\n",
              "5109  44679  Female  44.0  ...  26.2          Unknown      0\n",
              "\n",
              "[5110 rows x 12 columns]"
            ]
          },
          "metadata": {
            "tags": []
          },
          "execution_count": 3
        }
      ]
    },
    {
      "cell_type": "code",
      "metadata": {
        "id": "TGvbvnX7UtdP",
        "colab": {
          "base_uri": "https://localhost:8080/"
        },
        "outputId": "b6645960-c3a7-4773-d0c2-47e734d0a2dd"
      },
      "source": [
        "#Melihat detail dari setiap kolom\n",
        "df.info()"
      ],
      "execution_count": null,
      "outputs": [
        {
          "output_type": "stream",
          "text": [
            "<class 'pandas.core.frame.DataFrame'>\n",
            "RangeIndex: 5110 entries, 0 to 5109\n",
            "Data columns (total 12 columns):\n",
            " #   Column             Non-Null Count  Dtype  \n",
            "---  ------             --------------  -----  \n",
            " 0   id                 5110 non-null   int64  \n",
            " 1   gender             5110 non-null   object \n",
            " 2   age                5110 non-null   float64\n",
            " 3   hypertension       5110 non-null   int64  \n",
            " 4   heart_disease      5110 non-null   int64  \n",
            " 5   ever_married       5110 non-null   object \n",
            " 6   work_type          5110 non-null   object \n",
            " 7   Residence_type     5110 non-null   object \n",
            " 8   avg_glucose_level  5110 non-null   float64\n",
            " 9   bmi                4909 non-null   float64\n",
            " 10  smoking_status     5110 non-null   object \n",
            " 11  stroke             5110 non-null   int64  \n",
            "dtypes: float64(3), int64(4), object(5)\n",
            "memory usage: 479.2+ KB\n"
          ],
          "name": "stdout"
        }
      ]
    },
    {
      "cell_type": "markdown",
      "metadata": {
        "id": "oS3inq1_Vkuv"
      },
      "source": [
        "# **2. Data Visualisasi dan Data Pre-Processing**"
      ]
    },
    {
      "cell_type": "markdown",
      "metadata": {
        "id": "s972RllhY7ak"
      },
      "source": [
        "### Data Visualisasi"
      ]
    },
    {
      "cell_type": "code",
      "metadata": {
        "id": "QHNMdgPQZaGW"
      },
      "source": [
        "#Membuat data dengan label untuk melakukan visualisasi\n",
        "df_label = pd.read_csv(\"healthcare-dataset-stroke-data.csv\")\n",
        "df_label = df_label.drop('id', axis=1)\n",
        "df_label['bmi'] = df['bmi']"
      ],
      "execution_count": null,
      "outputs": []
    },
    {
      "cell_type": "code",
      "metadata": {
        "id": "cpKGWvvRRVY0",
        "colab": {
          "base_uri": "https://localhost:8080/",
          "height": 401
        },
        "outputId": "946796d5-1dfe-4fde-9203-4dc61d4d5e4a"
      },
      "source": [
        "# Melakukan visualisasi dari catplot untuk kolom smoking_status dan kolom stroke\n",
        "\n",
        "sns.catplot(x=\"smoking_status\", y=\"stroke\", kind=\"bar\", data=df)\n",
        "plt.figure(figsize=(25, 25))\n",
        "plt.show()"
      ],
      "execution_count": null,
      "outputs": [
        {
          "output_type": "display_data",
          "data": {
            "image/png": "[encoded data removed]",
            "text/plain": [
              "<Figure size 360x360 with 1 Axes>"
            ]
          },
          "metadata": {
            "tags": [],
            "needs_background": "light"
          }
        },
        {
          "output_type": "display_data",
          "data": {
            "text/plain": [
              "<Figure size 1800x1800 with 0 Axes>"
            ]
          },
          "metadata": {
            "tags": []
          }
        }
      ]
    },
    {
      "cell_type": "code",
      "metadata": {
        "id": "8V9rwhzFRVYz",
        "colab": {
          "base_uri": "https://localhost:8080/",
          "height": 296
        },
        "outputId": "f6ab9e95-cfc3-4517-e54b-555d7aed33b4"
      },
      "source": [
        "# Visualisasi data pasien berdasarkan jenis kelamin/gender\n",
        "\n",
        "sns.countplot(x=\"gender\", data=df)\n",
        "plt.figure(figsize=(5, 5))\n",
        "plt.show()"
      ],
      "execution_count": null,
      "outputs": [
        {
          "output_type": "display_data",
          "data": {
            "image/png": "[encoded data removed]",
            "text/plain": [
              "<Figure size 432x288 with 1 Axes>"
            ]
          },
          "metadata": {
            "tags": [],
            "needs_background": "light"
          }
        },
        {
          "output_type": "display_data",
          "data": {
            "text/plain": [
              "<Figure size 360x360 with 0 Axes>"
            ]
          },
          "metadata": {
            "tags": []
          }
        }
      ]
    },
    {
      "cell_type": "code",
      "metadata": {
        "id": "MGBl58a3aQXs",
        "colab": {
          "base_uri": "https://localhost:8080/",
          "height": 296
        },
        "outputId": "3d2abbb9-2507-483b-ed5d-9f1952aa9853"
      },
      "source": [
        "# Menampilkan histogram dari bmi\n",
        "sns.histplot(x='bmi', data=df_label)"
      ],
      "execution_count": null,
      "outputs": [
        {
          "output_type": "execute_result",
          "data": {
            "text/plain": [
              "<matplotlib.axes._subplots.AxesSubplot at 0x7f9663ed7350>"
            ]
          },
          "metadata": {
            "tags": []
          },
          "execution_count": 8
        },
        {
          "output_type": "display_data",
          "data": {
            "image/png": "[encoded data removed]",
            "text/plain": [
              "<Figure size 432x288 with 1 Axes>"
            ]
          },
          "metadata": {
            "tags": [],
            "needs_background": "light"
          }
        }
      ]
    },
    {
      "cell_type": "code",
      "metadata": {
        "id": "TI81zFHHac0y",
        "colab": {
          "base_uri": "https://localhost:8080/",
          "height": 296
        },
        "outputId": "9f8d0c2a-1486-42ee-859d-a216881f1cb5"
      },
      "source": [
        "#Menampilkan bmi(body mass index) berdasarkan gender dalam plot area yang sama\n",
        "sns.histplot(x='bmi', data=df_label[df_label[\"gender\"]==\"Male\"], linewidth=0.01, color=\"royalblue\")\n",
        "sns.histplot(x='bmi', data=df_label[df_label[\"gender\"]==\"Female\"], linewidth=0.01, color=\"red\")"
      ],
      "execution_count": null,
      "outputs": [
        {
          "output_type": "execute_result",
          "data": {
            "text/plain": [
              "<matplotlib.axes._subplots.AxesSubplot at 0x7f9662683dd0>"
            ]
          },
          "metadata": {
            "tags": []
          },
          "execution_count": 9
        },
        {
          "output_type": "display_data",
          "data": {
            "image/png": "[encoded data removed]",
            "text/plain": [
              "<Figure size 432x288 with 1 Axes>"
            ]
          },
          "metadata": {
            "tags": [],
            "needs_background": "light"
          }
        }
      ]
    },
    {
      "cell_type": "code",
      "metadata": {
        "id": "2CbHhqDCXTxO",
        "colab": {
          "base_uri": "https://localhost:8080/",
          "height": 298
        },
        "outputId": "8cc2b81d-c075-42ca-e324-d8dbf192640c"
      },
      "source": [
        "# Membuat countplot untuk kolom work_type\n",
        "sns.countplot(x=\"work_type\", data=df_label, color=\"royalblue\")"
      ],
      "execution_count": null,
      "outputs": [
        {
          "output_type": "execute_result",
          "data": {
            "text/plain": [
              "<matplotlib.axes._subplots.AxesSubplot at 0x7f966268ed50>"
            ]
          },
          "metadata": {
            "tags": []
          },
          "execution_count": 10
        },
        {
          "output_type": "display_data",
          "data": {
            "image/png": "[encoded data removed]",
            "text/plain": [
              "<Figure size 432x288 with 1 Axes>"
            ]
          },
          "metadata": {
            "tags": [],
            "needs_background": "light"
          }
        }
      ]
    },
    {
      "cell_type": "code",
      "metadata": {
        "id": "-F-Tpn21aypV",
        "colab": {
          "base_uri": "https://localhost:8080/",
          "height": 298
        },
        "outputId": "57b13894-922c-4e54-8fc7-38f11c30e24f"
      },
      "source": [
        "# Membuat countplot work_type berdasarkan gender\n",
        "sns.countplot(x=\"work_type\", data=df_label, hue=\"gender\")# set hue=gender"
      ],
      "execution_count": null,
      "outputs": [
        {
          "output_type": "execute_result",
          "data": {
            "text/plain": [
              "<matplotlib.axes._subplots.AxesSubplot at 0x7f966249f350>"
            ]
          },
          "metadata": {
            "tags": []
          },
          "execution_count": 11
        },
        {
          "output_type": "display_data",
          "data": {
            "image/png": "[encoded data removed]",
            "text/plain": [
              "<Figure size 432x288 with 1 Axes>"
            ]
          },
          "metadata": {
            "tags": [],
            "needs_background": "light"
          }
        }
      ]
    },
    {
      "cell_type": "markdown",
      "metadata": {
        "id": "V8fKfW1DfY2S"
      },
      "source": [
        "### 2. Data Pre-Processing"
      ]
    },
    {
      "cell_type": "code",
      "metadata": {
        "id": "9weCNUaeVG3m"
      },
      "source": [
        "#Menghilangkan kolom id karena tidak digunakan\n",
        "df = df.drop('id', axis=1)"
      ],
      "execution_count": null,
      "outputs": []
    },
    {
      "cell_type": "code",
      "metadata": {
        "id": "wcrQX0jZUetX",
        "colab": {
          "base_uri": "https://localhost:8080/",
          "height": 297
        },
        "outputId": "9ad38026-058c-4ff4-87e3-b5eaff66fc79"
      },
      "source": [
        "#Menampilkan deskriptif statistik dari dataset sebelum di lakukan preprocessing\n",
        "df.describe()"
      ],
      "execution_count": null,
      "outputs": [
        {
          "output_type": "execute_result",
          "data": {
            "text/html": [
              "<div>\n",
              "<style scoped>\n",
              "    .dataframe tbody tr th:only-of-type {\n",
              "        vertical-align: middle;\n",
              "    }\n",
              "\n",
              "    .dataframe tbody tr th {\n",
              "        vertical-align: top;\n",
              "    }\n",
              "\n",
              "    .dataframe thead th {\n",
              "        text-align: right;\n",
              "    }\n",
              "</style>\n",
              "<table border=\"1\" class=\"dataframe\">\n",
              "  <thead>\n",
              "    <tr style=\"text-align: right;\">\n",
              "      <th></th>\n",
              "      <th>age</th>\n",
              "      <th>hypertension</th>\n",
              "      <th>heart_disease</th>\n",
              "      <th>avg_glucose_level</th>\n",
              "      <th>bmi</th>\n",
              "      <th>stroke</th>\n",
              "    </tr>\n",
              "  </thead>\n",
              "  <tbody>\n",
              "    <tr>\n",
              "      <th>count</th>\n",
              "      <td>5110.000000</td>\n",
              "      <td>5110.000000</td>\n",
              "      <td>5110.000000</td>\n",
              "      <td>5110.000000</td>\n",
              "      <td>4909.000000</td>\n",
              "      <td>5110.000000</td>\n",
              "    </tr>\n",
              "    <tr>\n",
              "      <th>mean</th>\n",
              "      <td>43.226614</td>\n",
              "      <td>0.097456</td>\n",
              "      <td>0.054012</td>\n",
              "      <td>106.147677</td>\n",
              "      <td>28.893237</td>\n",
              "      <td>0.048728</td>\n",
              "    </tr>\n",
              "    <tr>\n",
              "      <th>std</th>\n",
              "      <td>22.612647</td>\n",
              "      <td>0.296607</td>\n",
              "      <td>0.226063</td>\n",
              "      <td>45.283560</td>\n",
              "      <td>7.854067</td>\n",
              "      <td>0.215320</td>\n",
              "    </tr>\n",
              "    <tr>\n",
              "      <th>min</th>\n",
              "      <td>0.080000</td>\n",
              "      <td>0.000000</td>\n",
              "      <td>0.000000</td>\n",
              "      <td>55.120000</td>\n",
              "      <td>10.300000</td>\n",
              "      <td>0.000000</td>\n",
              "    </tr>\n",
              "    <tr>\n",
              "      <th>25%</th>\n",
              "      <td>25.000000</td>\n",
              "      <td>0.000000</td>\n",
              "      <td>0.000000</td>\n",
              "      <td>77.245000</td>\n",
              "      <td>23.500000</td>\n",
              "      <td>0.000000</td>\n",
              "    </tr>\n",
              "    <tr>\n",
              "      <th>50%</th>\n",
              "      <td>45.000000</td>\n",
              "      <td>0.000000</td>\n",
              "      <td>0.000000</td>\n",
              "      <td>91.885000</td>\n",
              "      <td>28.100000</td>\n",
              "      <td>0.000000</td>\n",
              "    </tr>\n",
              "    <tr>\n",
              "      <th>75%</th>\n",
              "      <td>61.000000</td>\n",
              "      <td>0.000000</td>\n",
              "      <td>0.000000</td>\n",
              "      <td>114.090000</td>\n",
              "      <td>33.100000</td>\n",
              "      <td>0.000000</td>\n",
              "    </tr>\n",
              "    <tr>\n",
              "      <th>max</th>\n",
              "      <td>82.000000</td>\n",
              "      <td>1.000000</td>\n",
              "      <td>1.000000</td>\n",
              "      <td>271.740000</td>\n",
              "      <td>97.600000</td>\n",
              "      <td>1.000000</td>\n",
              "    </tr>\n",
              "  </tbody>\n",
              "</table>\n",
              "</div>"
            ],
            "text/plain": [
              "               age  hypertension  ...          bmi       stroke\n",
              "count  5110.000000   5110.000000  ...  4909.000000  5110.000000\n",
              "mean     43.226614      0.097456  ...    28.893237     0.048728\n",
              "std      22.612647      0.296607  ...     7.854067     0.215320\n",
              "min       0.080000      0.000000  ...    10.300000     0.000000\n",
              "25%      25.000000      0.000000  ...    23.500000     0.000000\n",
              "50%      45.000000      0.000000  ...    28.100000     0.000000\n",
              "75%      61.000000      0.000000  ...    33.100000     0.000000\n",
              "max      82.000000      1.000000  ...    97.600000     1.000000\n",
              "\n",
              "[8 rows x 6 columns]"
            ]
          },
          "metadata": {
            "tags": []
          },
          "execution_count": 13
        }
      ]
    },
    {
      "cell_type": "code",
      "metadata": {
        "id": "vzWtWX-5RVYz",
        "colab": {
          "base_uri": "https://localhost:8080/"
        },
        "outputId": "8db66214-ed82-483e-9756-4eced34cef61"
      },
      "source": [
        "#Mendeteksi baris data yang bernilai Nan atau kosong \n",
        "df.isnull().sum()"
      ],
      "execution_count": null,
      "outputs": [
        {
          "output_type": "execute_result",
          "data": {
            "text/plain": [
              "gender                 0\n",
              "age                    0\n",
              "hypertension           0\n",
              "heart_disease          0\n",
              "ever_married           0\n",
              "work_type              0\n",
              "Residence_type         0\n",
              "avg_glucose_level      0\n",
              "bmi                  201\n",
              "smoking_status         0\n",
              "stroke                 0\n",
              "dtype: int64"
            ]
          },
          "metadata": {
            "tags": []
          },
          "execution_count": 14
        }
      ]
    },
    {
      "cell_type": "code",
      "metadata": {
        "scrolled": true,
        "id": "GgYjoP4qRVYz",
        "colab": {
          "base_uri": "https://localhost:8080/",
          "height": 359
        },
        "outputId": "97c910e0-9ed8-45e8-fb6a-2730870edd9c"
      },
      "source": [
        "# Mengubah nilai nan/kosong menjadi nilai mean\n",
        "mean = df.mean()\n",
        "df = df.replace(np.nan, mean)\n",
        "df.head(10)"
      ],
      "execution_count": null,
      "outputs": [
        {
          "output_type": "execute_result",
          "data": {
            "text/html": [
              "<div>\n",
              "<style scoped>\n",
              "    .dataframe tbody tr th:only-of-type {\n",
              "        vertical-align: middle;\n",
              "    }\n",
              "\n",
              "    .dataframe tbody tr th {\n",
              "        vertical-align: top;\n",
              "    }\n",
              "\n",
              "    .dataframe thead th {\n",
              "        text-align: right;\n",
              "    }\n",
              "</style>\n",
              "<table border=\"1\" class=\"dataframe\">\n",
              "  <thead>\n",
              "    <tr style=\"text-align: right;\">\n",
              "      <th></th>\n",
              "      <th>gender</th>\n",
              "      <th>age</th>\n",
              "      <th>hypertension</th>\n",
              "      <th>heart_disease</th>\n",
              "      <th>ever_married</th>\n",
              "      <th>work_type</th>\n",
              "      <th>Residence_type</th>\n",
              "      <th>avg_glucose_level</th>\n",
              "      <th>bmi</th>\n",
              "      <th>smoking_status</th>\n",
              "      <th>stroke</th>\n",
              "    </tr>\n",
              "  </thead>\n",
              "  <tbody>\n",
              "    <tr>\n",
              "      <th>0</th>\n",
              "      <td>Male</td>\n",
              "      <td>67.0</td>\n",
              "      <td>0</td>\n",
              "      <td>1</td>\n",
              "      <td>Yes</td>\n",
              "      <td>Private</td>\n",
              "      <td>Urban</td>\n",
              "      <td>228.69</td>\n",
              "      <td>36.600000</td>\n",
              "      <td>formerly smoked</td>\n",
              "      <td>1</td>\n",
              "    </tr>\n",
              "    <tr>\n",
              "      <th>1</th>\n",
              "      <td>Female</td>\n",
              "      <td>61.0</td>\n",
              "      <td>0</td>\n",
              "      <td>0</td>\n",
              "      <td>Yes</td>\n",
              "      <td>Self-employed</td>\n",
              "      <td>Rural</td>\n",
              "      <td>202.21</td>\n",
              "      <td>28.893237</td>\n",
              "      <td>never smoked</td>\n",
              "      <td>1</td>\n",
              "    </tr>\n",
              "    <tr>\n",
              "      <th>2</th>\n",
              "      <td>Male</td>\n",
              "      <td>80.0</td>\n",
              "      <td>0</td>\n",
              "      <td>1</td>\n",
              "      <td>Yes</td>\n",
              "      <td>Private</td>\n",
              "      <td>Rural</td>\n",
              "      <td>105.92</td>\n",
              "      <td>32.500000</td>\n",
              "      <td>never smoked</td>\n",
              "      <td>1</td>\n",
              "    </tr>\n",
              "    <tr>\n",
              "      <th>3</th>\n",
              "      <td>Female</td>\n",
              "      <td>49.0</td>\n",
              "      <td>0</td>\n",
              "      <td>0</td>\n",
              "      <td>Yes</td>\n",
              "      <td>Private</td>\n",
              "      <td>Urban</td>\n",
              "      <td>171.23</td>\n",
              "      <td>34.400000</td>\n",
              "      <td>smokes</td>\n",
              "      <td>1</td>\n",
              "    </tr>\n",
              "    <tr>\n",
              "      <th>4</th>\n",
              "      <td>Female</td>\n",
              "      <td>79.0</td>\n",
              "      <td>1</td>\n",
              "      <td>0</td>\n",
              "      <td>Yes</td>\n",
              "      <td>Self-employed</td>\n",
              "      <td>Rural</td>\n",
              "      <td>174.12</td>\n",
              "      <td>24.000000</td>\n",
              "      <td>never smoked</td>\n",
              "      <td>1</td>\n",
              "    </tr>\n",
              "    <tr>\n",
              "      <th>5</th>\n",
              "      <td>Male</td>\n",
              "      <td>81.0</td>\n",
              "      <td>0</td>\n",
              "      <td>0</td>\n",
              "      <td>Yes</td>\n",
              "      <td>Private</td>\n",
              "      <td>Urban</td>\n",
              "      <td>186.21</td>\n",
              "      <td>29.000000</td>\n",
              "      <td>formerly smoked</td>\n",
              "      <td>1</td>\n",
              "    </tr>\n",
              "    <tr>\n",
              "      <th>6</th>\n",
              "      <td>Male</td>\n",
              "      <td>74.0</td>\n",
              "      <td>1</td>\n",
              "      <td>1</td>\n",
              "      <td>Yes</td>\n",
              "      <td>Private</td>\n",
              "      <td>Rural</td>\n",
              "      <td>70.09</td>\n",
              "      <td>27.400000</td>\n",
              "      <td>never smoked</td>\n",
              "      <td>1</td>\n",
              "    </tr>\n",
              "    <tr>\n",
              "      <th>7</th>\n",
              "      <td>Female</td>\n",
              "      <td>69.0</td>\n",
              "      <td>0</td>\n",
              "      <td>0</td>\n",
              "      <td>No</td>\n",
              "      <td>Private</td>\n",
              "      <td>Urban</td>\n",
              "      <td>94.39</td>\n",
              "      <td>22.800000</td>\n",
              "      <td>never smoked</td>\n",
              "      <td>1</td>\n",
              "    </tr>\n",
              "    <tr>\n",
              "      <th>8</th>\n",
              "      <td>Female</td>\n",
              "      <td>59.0</td>\n",
              "      <td>0</td>\n",
              "      <td>0</td>\n",
              "      <td>Yes</td>\n",
              "      <td>Private</td>\n",
              "      <td>Rural</td>\n",
              "      <td>76.15</td>\n",
              "      <td>28.893237</td>\n",
              "      <td>Unknown</td>\n",
              "      <td>1</td>\n",
              "    </tr>\n",
              "    <tr>\n",
              "      <th>9</th>\n",
              "      <td>Female</td>\n",
              "      <td>78.0</td>\n",
              "      <td>0</td>\n",
              "      <td>0</td>\n",
              "      <td>Yes</td>\n",
              "      <td>Private</td>\n",
              "      <td>Urban</td>\n",
              "      <td>58.57</td>\n",
              "      <td>24.200000</td>\n",
              "      <td>Unknown</td>\n",
              "      <td>1</td>\n",
              "    </tr>\n",
              "  </tbody>\n",
              "</table>\n",
              "</div>"
            ],
            "text/plain": [
              "   gender   age  hypertension  ...        bmi   smoking_status stroke\n",
              "0    Male  67.0             0  ...  36.600000  formerly smoked      1\n",
              "1  Female  61.0             0  ...  28.893237     never smoked      1\n",
              "2    Male  80.0             0  ...  32.500000     never smoked      1\n",
              "3  Female  49.0             0  ...  34.400000           smokes      1\n",
              "4  Female  79.0             1  ...  24.000000     never smoked      1\n",
              "5    Male  81.0             0  ...  29.000000  formerly smoked      1\n",
              "6    Male  74.0             1  ...  27.400000     never smoked      1\n",
              "7  Female  69.0             0  ...  22.800000     never smoked      1\n",
              "8  Female  59.0             0  ...  28.893237          Unknown      1\n",
              "9  Female  78.0             0  ...  24.200000          Unknown      1\n",
              "\n",
              "[10 rows x 11 columns]"
            ]
          },
          "metadata": {
            "tags": []
          },
          "execution_count": 15
        }
      ]
    },
    {
      "cell_type": "code",
      "metadata": {
        "scrolled": true,
        "id": "BTDEGcO-RVYz",
        "colab": {
          "base_uri": "https://localhost:8080/",
          "height": 204
        },
        "outputId": "7a245b23-894d-4184-f6b1-6f40e88c80be"
      },
      "source": [
        "# Mengubah/Encode kategori dari tipe data string menjadi tipe integer\n",
        "from sklearn.preprocessing import OneHotEncoder \n",
        "\n",
        "df[\"gender\"] = pd.factorize(df.gender) [0]\n",
        "df[\"gender\"] = pd.get_dummies(df[\"gender\"])\n",
        "df['ever_married'] = pd.get_dummies(df[\"ever_married\"])\n",
        "df[\"work_type\"] = pd.get_dummies(df[\"work_type\"])\n",
        "df[\"Residence_type\"] = pd.get_dummies(df[\"Residence_type\"])\n",
        "df[\"smoking_status\"] = pd.get_dummies(df[\"smoking_status\"])\n",
        "df.head()"
      ],
      "execution_count": null,
      "outputs": [
        {
          "output_type": "execute_result",
          "data": {
            "text/html": [
              "<div>\n",
              "<style scoped>\n",
              "    .dataframe tbody tr th:only-of-type {\n",
              "        vertical-align: middle;\n",
              "    }\n",
              "\n",
              "    .dataframe tbody tr th {\n",
              "        vertical-align: top;\n",
              "    }\n",
              "\n",
              "    .dataframe thead th {\n",
              "        text-align: right;\n",
              "    }\n",
              "</style>\n",
              "<table border=\"1\" class=\"dataframe\">\n",
              "  <thead>\n",
              "    <tr style=\"text-align: right;\">\n",
              "      <th></th>\n",
              "      <th>gender</th>\n",
              "      <th>age</th>\n",
              "      <th>hypertension</th>\n",
              "      <th>heart_disease</th>\n",
              "      <th>ever_married</th>\n",
              "      <th>work_type</th>\n",
              "      <th>Residence_type</th>\n",
              "      <th>avg_glucose_level</th>\n",
              "      <th>bmi</th>\n",
              "      <th>smoking_status</th>\n",
              "      <th>stroke</th>\n",
              "    </tr>\n",
              "  </thead>\n",
              "  <tbody>\n",
              "    <tr>\n",
              "      <th>0</th>\n",
              "      <td>1</td>\n",
              "      <td>67.0</td>\n",
              "      <td>0</td>\n",
              "      <td>1</td>\n",
              "      <td>0</td>\n",
              "      <td>0</td>\n",
              "      <td>0</td>\n",
              "      <td>228.69</td>\n",
              "      <td>36.600000</td>\n",
              "      <td>0</td>\n",
              "      <td>1</td>\n",
              "    </tr>\n",
              "    <tr>\n",
              "      <th>1</th>\n",
              "      <td>0</td>\n",
              "      <td>61.0</td>\n",
              "      <td>0</td>\n",
              "      <td>0</td>\n",
              "      <td>0</td>\n",
              "      <td>0</td>\n",
              "      <td>1</td>\n",
              "      <td>202.21</td>\n",
              "      <td>28.893237</td>\n",
              "      <td>0</td>\n",
              "      <td>1</td>\n",
              "    </tr>\n",
              "    <tr>\n",
              "      <th>2</th>\n",
              "      <td>1</td>\n",
              "      <td>80.0</td>\n",
              "      <td>0</td>\n",
              "      <td>1</td>\n",
              "      <td>0</td>\n",
              "      <td>0</td>\n",
              "      <td>1</td>\n",
              "      <td>105.92</td>\n",
              "      <td>32.500000</td>\n",
              "      <td>0</td>\n",
              "      <td>1</td>\n",
              "    </tr>\n",
              "    <tr>\n",
              "      <th>3</th>\n",
              "      <td>0</td>\n",
              "      <td>49.0</td>\n",
              "      <td>0</td>\n",
              "      <td>0</td>\n",
              "      <td>0</td>\n",
              "      <td>0</td>\n",
              "      <td>0</td>\n",
              "      <td>171.23</td>\n",
              "      <td>34.400000</td>\n",
              "      <td>0</td>\n",
              "      <td>1</td>\n",
              "    </tr>\n",
              "    <tr>\n",
              "      <th>4</th>\n",
              "      <td>0</td>\n",
              "      <td>79.0</td>\n",
              "      <td>1</td>\n",
              "      <td>0</td>\n",
              "      <td>0</td>\n",
              "      <td>0</td>\n",
              "      <td>1</td>\n",
              "      <td>174.12</td>\n",
              "      <td>24.000000</td>\n",
              "      <td>0</td>\n",
              "      <td>1</td>\n",
              "    </tr>\n",
              "  </tbody>\n",
              "</table>\n",
              "</div>"
            ],
            "text/plain": [
              "   gender   age  hypertension  ...        bmi  smoking_status  stroke\n",
              "0       1  67.0             0  ...  36.600000               0       1\n",
              "1       0  61.0             0  ...  28.893237               0       1\n",
              "2       1  80.0             0  ...  32.500000               0       1\n",
              "3       0  49.0             0  ...  34.400000               0       1\n",
              "4       0  79.0             1  ...  24.000000               0       1\n",
              "\n",
              "[5 rows x 11 columns]"
            ]
          },
          "metadata": {
            "tags": []
          },
          "execution_count": 16
        }
      ]
    },
    {
      "cell_type": "code",
      "metadata": {
        "id": "rGS2JlI6RVY0",
        "colab": {
          "base_uri": "https://localhost:8080/",
          "height": 317
        },
        "outputId": "3313ad4f-74e6-4a4b-e083-753e65337657"
      },
      "source": [
        "# Menampilkan kembali desktriptif statistik yang telah di preprocessing\n",
        "df.describe()"
      ],
      "execution_count": null,
      "outputs": [
        {
          "output_type": "execute_result",
          "data": {
            "text/html": [
              "<div>\n",
              "<style scoped>\n",
              "    .dataframe tbody tr th:only-of-type {\n",
              "        vertical-align: middle;\n",
              "    }\n",
              "\n",
              "    .dataframe tbody tr th {\n",
              "        vertical-align: top;\n",
              "    }\n",
              "\n",
              "    .dataframe thead th {\n",
              "        text-align: right;\n",
              "    }\n",
              "</style>\n",
              "<table border=\"1\" class=\"dataframe\">\n",
              "  <thead>\n",
              "    <tr style=\"text-align: right;\">\n",
              "      <th></th>\n",
              "      <th>gender</th>\n",
              "      <th>age</th>\n",
              "      <th>hypertension</th>\n",
              "      <th>heart_disease</th>\n",
              "      <th>ever_married</th>\n",
              "      <th>work_type</th>\n",
              "      <th>Residence_type</th>\n",
              "      <th>avg_glucose_level</th>\n",
              "      <th>bmi</th>\n",
              "      <th>smoking_status</th>\n",
              "      <th>stroke</th>\n",
              "    </tr>\n",
              "  </thead>\n",
              "  <tbody>\n",
              "    <tr>\n",
              "      <th>count</th>\n",
              "      <td>5110.000000</td>\n",
              "      <td>5110.000000</td>\n",
              "      <td>5110.000000</td>\n",
              "      <td>5110.000000</td>\n",
              "      <td>5110.000000</td>\n",
              "      <td>5110.000000</td>\n",
              "      <td>5110.000000</td>\n",
              "      <td>5110.000000</td>\n",
              "      <td>5110.000000</td>\n",
              "      <td>5110.000000</td>\n",
              "      <td>5110.000000</td>\n",
              "    </tr>\n",
              "    <tr>\n",
              "      <th>mean</th>\n",
              "      <td>0.413894</td>\n",
              "      <td>43.226614</td>\n",
              "      <td>0.097456</td>\n",
              "      <td>0.054012</td>\n",
              "      <td>0.343836</td>\n",
              "      <td>0.128571</td>\n",
              "      <td>0.491977</td>\n",
              "      <td>106.147677</td>\n",
              "      <td>28.893237</td>\n",
              "      <td>0.302153</td>\n",
              "      <td>0.048728</td>\n",
              "    </tr>\n",
              "    <tr>\n",
              "      <th>std</th>\n",
              "      <td>0.492578</td>\n",
              "      <td>22.612647</td>\n",
              "      <td>0.296607</td>\n",
              "      <td>0.226063</td>\n",
              "      <td>0.475034</td>\n",
              "      <td>0.334758</td>\n",
              "      <td>0.499985</td>\n",
              "      <td>45.283560</td>\n",
              "      <td>7.698018</td>\n",
              "      <td>0.459236</td>\n",
              "      <td>0.215320</td>\n",
              "    </tr>\n",
              "    <tr>\n",
              "      <th>min</th>\n",
              "      <td>0.000000</td>\n",
              "      <td>0.080000</td>\n",
              "      <td>0.000000</td>\n",
              "      <td>0.000000</td>\n",
              "      <td>0.000000</td>\n",
              "      <td>0.000000</td>\n",
              "      <td>0.000000</td>\n",
              "      <td>55.120000</td>\n",
              "      <td>10.300000</td>\n",
              "      <td>0.000000</td>\n",
              "      <td>0.000000</td>\n",
              "    </tr>\n",
              "    <tr>\n",
              "      <th>25%</th>\n",
              "      <td>0.000000</td>\n",
              "      <td>25.000000</td>\n",
              "      <td>0.000000</td>\n",
              "      <td>0.000000</td>\n",
              "      <td>0.000000</td>\n",
              "      <td>0.000000</td>\n",
              "      <td>0.000000</td>\n",
              "      <td>77.245000</td>\n",
              "      <td>23.800000</td>\n",
              "      <td>0.000000</td>\n",
              "      <td>0.000000</td>\n",
              "    </tr>\n",
              "    <tr>\n",
              "      <th>50%</th>\n",
              "      <td>0.000000</td>\n",
              "      <td>45.000000</td>\n",
              "      <td>0.000000</td>\n",
              "      <td>0.000000</td>\n",
              "      <td>0.000000</td>\n",
              "      <td>0.000000</td>\n",
              "      <td>0.000000</td>\n",
              "      <td>91.885000</td>\n",
              "      <td>28.400000</td>\n",
              "      <td>0.000000</td>\n",
              "      <td>0.000000</td>\n",
              "    </tr>\n",
              "    <tr>\n",
              "      <th>75%</th>\n",
              "      <td>1.000000</td>\n",
              "      <td>61.000000</td>\n",
              "      <td>0.000000</td>\n",
              "      <td>0.000000</td>\n",
              "      <td>1.000000</td>\n",
              "      <td>0.000000</td>\n",
              "      <td>1.000000</td>\n",
              "      <td>114.090000</td>\n",
              "      <td>32.800000</td>\n",
              "      <td>1.000000</td>\n",
              "      <td>0.000000</td>\n",
              "    </tr>\n",
              "    <tr>\n",
              "      <th>max</th>\n",
              "      <td>1.000000</td>\n",
              "      <td>82.000000</td>\n",
              "      <td>1.000000</td>\n",
              "      <td>1.000000</td>\n",
              "      <td>1.000000</td>\n",
              "      <td>1.000000</td>\n",
              "      <td>1.000000</td>\n",
              "      <td>271.740000</td>\n",
              "      <td>97.600000</td>\n",
              "      <td>1.000000</td>\n",
              "      <td>1.000000</td>\n",
              "    </tr>\n",
              "  </tbody>\n",
              "</table>\n",
              "</div>"
            ],
            "text/plain": [
              "            gender          age  ...  smoking_status       stroke\n",
              "count  5110.000000  5110.000000  ...     5110.000000  5110.000000\n",
              "mean      0.413894    43.226614  ...        0.302153     0.048728\n",
              "std       0.492578    22.612647  ...        0.459236     0.215320\n",
              "min       0.000000     0.080000  ...        0.000000     0.000000\n",
              "25%       0.000000    25.000000  ...        0.000000     0.000000\n",
              "50%       0.000000    45.000000  ...        0.000000     0.000000\n",
              "75%       1.000000    61.000000  ...        1.000000     0.000000\n",
              "max       1.000000    82.000000  ...        1.000000     1.000000\n",
              "\n",
              "[8 rows x 11 columns]"
            ]
          },
          "metadata": {
            "tags": []
          },
          "execution_count": 17
        }
      ]
    },
    {
      "cell_type": "code",
      "metadata": {
        "id": "oYt_08FnRVY0",
        "colab": {
          "base_uri": "https://localhost:8080/",
          "height": 989
        },
        "outputId": "87b989f5-7e8a-4801-f855-318e6ccbd51c"
      },
      "source": [
        "# Setelah melakukan deskriptif statistik, kemudian dilakukan visualisasi data deskriptif untuk kolom yang telah di preprocessing\n",
        "plt.figure(figsize = (30, 60))\n",
        "\n",
        "# Melakukan visualisasi data deskritif untuk kolom gender\n",
        "plt.subplot(8,5,1)\n",
        "plt.axvline(df[\"gender\"].mean(), color = \"gray\")\n",
        "plt.axvline(df[\"gender\"].median(), color = \"purple\", label = \"median\")\n",
        "plt.title(\"Visualisasi Data Deskriptif Untuk Setiap gender\", fontsize=10)\n",
        "sns.distplot(df[\"gender\"])\n",
        "\n",
        "# Melakukan visualisasi data deskriptif untuk kolom age\n",
        "plt.subplot(8,5,2)\n",
        "plt.axvline(df[\"age\"].mean(), label=\"mean\", color=\"gray\")\n",
        "plt.axvline(df[\"age\"].median(), label=\"median\", color=\"purple\")\n",
        "plt.title(\"Visualisasi Data Deskriptif Untuk Kolom Umur\", fontsize=10)\n",
        "sns.distplot(df[\"age\"])\n",
        "\n",
        "# Melakukan visualisasi data deskriptif untuk kolom hypertension\n",
        "plt.subplot(8,5,3)\n",
        "plt.axvline(df[\"hypertension\"].mean(), label=\"mean\", color=\"gray\")\n",
        "plt.axvline(df[\"hypertension\"].median(), label=\"median\", color=\"purple\")\n",
        "plt.title(\"Visualisasi Data Deskriptif Untuk Kolom hypertension\", fontsize=10)\n",
        "sns.distplot(df[\"hypertension\"])\n",
        "\n",
        "# Melakukan visualisasi data deskriptif untuk kolom heart_disease\n",
        "plt.subplot(8,5,4)\n",
        "plt.axvline(df[\"heart_disease\"].mean(), label=\"mean\", color=\"gray\")\n",
        "plt.axvline(df[\"heart_disease\"].median(), label=\"median\", color=\"purple\")\n",
        "plt.title(\"Visualisasi Data Deskriptif Untuk Kolom heart_disease\", fontsize=10)\n",
        "sns.distplot(df[\"heart_disease\"])\n",
        "\n",
        "# Melakukan visualisasi data deskriptif untuk kolom ever_married\n",
        "plt.subplot(8,5,5)\n",
        "plt.axvline(df[\"ever_married\"].mean(), label=\"mean\", color=\"gray\")\n",
        "plt.axvline(df[\"ever_married\"].median(), label=\"median\", color=\"purple\")\n",
        "plt.title(\"Visualisasi Data Deskriptif Untuk Kolom ever_married\", fontsize=10)\n",
        "sns.distplot(df[\"ever_married\"])\n",
        "\n",
        "# Melakukan visualisasi data deskriptif untuk kolom work_type\n",
        "plt.subplot(8,5,6)\n",
        "plt.axvline(df[\"work_type\"].mean(), label=\"mean\", color=\"gray\")\n",
        "plt.axvline(df[\"work_type\"].median(), label=\"median\", color=\"purple\")\n",
        "plt.title(\"Visualisasi Data Deskriptif Untuk Kolom work_type\", fontsize=10)\n",
        "sns.distplot(df[\"work_type\"])\n",
        "\n",
        "# Melakukan visualisasi data deskriptif untuk kolom Residence_type\n",
        "plt.subplot(8,5,7)\n",
        "plt.axvline(df[\"Residence_type\"].mean(), label=\"mean\", color=\"gray\")\n",
        "plt.axvline(df[\"Residence_type\"].median(), label=\"median\", color=\"purple\")\n",
        "plt.title(\"Visualisasi Data Deskriptif Untuk Kolom Residence_type\", fontsize=10)\n",
        "sns.distplot(df[\"Residence_type\"])\n",
        "\n",
        "# Melakukan visualisasi data deskriptif untuk kolom avg_glucose_level\n",
        "plt.subplot(8,5,8)\n",
        "plt.axvline(df[\"avg_glucose_level\"].mean(), label=\"mean\", color=\"gray\")\n",
        "plt.axvline(df[\"avg_glucose_level\"].median(), label=\"median\", color=\"purple\")\n",
        "plt.title(\"Visualisasi Data Deskriptif Untuk Kolom avg_glucose_level\", fontsize=10)\n",
        "sns.distplot(df[\"avg_glucose_level\"])\n",
        "\n",
        "# Melakukan visualisasi data deskriptif untuk kolom bmi\n",
        "plt.subplot(8,5,9)\n",
        "plt.axvline(df[\"bmi\"].mean(), label=\"mean\", color=\"gray\")\n",
        "plt.axvline(df[\"bmi\"].median(), label=\"median\", color=\"purple\")\n",
        "plt.title(\"Visualisasi Data Deskriptif Untuk Kolom bmi\", fontsize=10)\n",
        "sns.distplot(df[\"bmi\"])\n",
        "\n",
        "# Melakukan visualisasi data deskriptif untuk kolom smoking status\n",
        "plt.subplot(8,5,10)\n",
        "plt.axvline(df[\"smoking_status\"].mean(), label=\"mean\", color=\"gray\")\n",
        "plt.axvline(df[\"smoking_status\"].median(), label=\"median\", color=\"purple\")\n",
        "plt.title(\"Visualisasi Data Deskriptif Untuk Kolom smoking_status\", fontsize=10)\n",
        "sns.distplot(df[\"smoking_status\"])"
      ],
      "execution_count": null,
      "outputs": [
        {
          "output_type": "stream",
          "text": [
            "/usr/local/lib/python3.7/dist-packages/seaborn/distributions.py:2557: FutureWarning: `distplot` is a deprecated function and will be removed in a future version. Please adapt your code to use either `displot` (a figure-level function with similar flexibility) or `histplot` (an axes-level function for histograms).\n",
            "  warnings.warn(msg, FutureWarning)\n",
            "/usr/local/lib/python3.7/dist-packages/seaborn/distributions.py:2557: FutureWarning: `distplot` is a deprecated function and will be removed in a future version. Please adapt your code to use either `displot` (a figure-level function with similar flexibility) or `histplot` (an axes-level function for histograms).\n",
            "  warnings.warn(msg, FutureWarning)\n",
            "/usr/local/lib/python3.7/dist-packages/seaborn/distributions.py:2557: FutureWarning: `distplot` is a deprecated function and will be removed in a future version. Please adapt your code to use either `displot` (a figure-level function with similar flexibility) or `histplot` (an axes-level function for histograms).\n",
            "  warnings.warn(msg, FutureWarning)\n",
            "/usr/local/lib/python3.7/dist-packages/seaborn/distributions.py:2557: FutureWarning: `distplot` is a deprecated function and will be removed in a future version. Please adapt your code to use either `displot` (a figure-level function with similar flexibility) or `histplot` (an axes-level function for histograms).\n",
            "  warnings.warn(msg, FutureWarning)\n",
            "/usr/local/lib/python3.7/dist-packages/seaborn/distributions.py:2557: FutureWarning: `distplot` is a deprecated function and will be removed in a future version. Please adapt your code to use either `displot` (a figure-level function with similar flexibility) or `histplot` (an axes-level function for histograms).\n",
            "  warnings.warn(msg, FutureWarning)\n",
            "/usr/local/lib/python3.7/dist-packages/seaborn/distributions.py:2557: FutureWarning: `distplot` is a deprecated function and will be removed in a future version. Please adapt your code to use either `displot` (a figure-level function with similar flexibility) or `histplot` (an axes-level function for histograms).\n",
            "  warnings.warn(msg, FutureWarning)\n",
            "/usr/local/lib/python3.7/dist-packages/seaborn/distributions.py:2557: FutureWarning: `distplot` is a deprecated function and will be removed in a future version. Please adapt your code to use either `displot` (a figure-level function with similar flexibility) or `histplot` (an axes-level function for histograms).\n",
            "  warnings.warn(msg, FutureWarning)\n",
            "/usr/local/lib/python3.7/dist-packages/seaborn/distributions.py:2557: FutureWarning: `distplot` is a deprecated function and will be removed in a future version. Please adapt your code to use either `displot` (a figure-level function with similar flexibility) or `histplot` (an axes-level function for histograms).\n",
            "  warnings.warn(msg, FutureWarning)\n",
            "/usr/local/lib/python3.7/dist-packages/seaborn/distributions.py:2557: FutureWarning: `distplot` is a deprecated function and will be removed in a future version. Please adapt your code to use either `displot` (a figure-level function with similar flexibility) or `histplot` (an axes-level function for histograms).\n",
            "  warnings.warn(msg, FutureWarning)\n",
            "/usr/local/lib/python3.7/dist-packages/seaborn/distributions.py:2557: FutureWarning: `distplot` is a deprecated function and will be removed in a future version. Please adapt your code to use either `displot` (a figure-level function with similar flexibility) or `histplot` (an axes-level function for histograms).\n",
            "  warnings.warn(msg, FutureWarning)\n"
          ],
          "name": "stderr"
        },
        {
          "output_type": "execute_result",
          "data": {
            "text/plain": [
              "<matplotlib.axes._subplots.AxesSubplot at 0x7f965ec09b50>"
            ]
          },
          "metadata": {
            "tags": []
          },
          "execution_count": 18
        },
        {
          "output_type": "display_data",
          "data": {
            "image/png": "[encoded data removed]",
            "text/plain": [
              "<Figure size 2160x4320 with 10 Axes>"
            ]
          },
          "metadata": {
            "tags": [],
            "needs_background": "light"
          }
        }
      ]
    },
    {
      "cell_type": "code",
      "metadata": {
        "id": "HDYldI9tdKk_",
        "colab": {
          "base_uri": "https://localhost:8080/",
          "height": 709
        },
        "outputId": "017263b5-c3f0-48f5-9a88-eb196ea53db6"
      },
      "source": [
        "# Membuat heatmap korelasi dataset\n",
        "plt.figure(figsize=(15, 10))\n",
        "\n",
        "corr_data_stroke = sns.heatmap(df.corr(), vmin=-1, vmax=1, annot=True)\n",
        "corr_data_stroke.set_title(\"Korelasi Data Stroke Pre-Processing\", fontdict={\"fontsize\":12}, pad=10)"
      ],
      "execution_count": null,
      "outputs": [
        {
          "output_type": "execute_result",
          "data": {
            "text/plain": [
              "Text(0.5, 1.0, 'Korelasi Data Stroke Pre-Processing')"
            ]
          },
          "metadata": {
            "tags": []
          },
          "execution_count": 19
        },
        {
          "output_type": "display_data",
          "data": {
            "image/png": "[encoded data removed]",
            "text/plain": [
              "<Figure size 1080x720 with 2 Axes>"
            ]
          },
          "metadata": {
            "tags": [],
            "needs_background": "light"
          }
        }
      ]
    },
    {
      "cell_type": "markdown",
      "metadata": {
        "id": "cQ1-bgI3ixW0"
      },
      "source": [
        "# **3. Mempersiapkan Data Train dan Data Test**"
      ]
    },
    {
      "cell_type": "code",
      "metadata": {
        "id": "8wJ-R2Y1jF1c"
      },
      "source": [
        "# Membagi data kedalam variabel x dan y\n",
        "x = df.drop([\"stroke\"], axis=1)\n",
        "y = df[\"stroke\"]"
      ],
      "execution_count": null,
      "outputs": []
    },
    {
      "cell_type": "code",
      "metadata": {
        "id": "dx5wzU3njkZv",
        "colab": {
          "base_uri": "https://localhost:8080/"
        },
        "outputId": "5553a84f-cb8c-4527-e8e7-57fe346a0bea"
      },
      "source": [
        "#Melakukan split data menjadi data train dan data test\n",
        "from sklearn.model_selection import train_test_split\n",
        "\n",
        "x_train, x_test, y_train, y_test = train_test_split(x, y, test_size=0.2, random_state=3)\n",
        "print(\"Data Train : \", x_train.shape, y_train.shape)\n",
        "print(\"Data Test :\", x_test.shape, y_test.shape)"
      ],
      "execution_count": null,
      "outputs": [
        {
          "output_type": "stream",
          "text": [
            "Data Train :  (4088, 10) (4088,)\n",
            "Data Test : (1022, 10) (1022,)\n"
          ],
          "name": "stdout"
        }
      ]
    },
    {
      "cell_type": "code",
      "metadata": {
        "id": "U3auWtHRkpv9"
      },
      "source": [
        "#Melakukan penskalaan dan standarisasi fitur menggunakan StandardScaler\n",
        "from sklearn.preprocessing import StandardScaler\n",
        "sc = StandardScaler()\n",
        "x_train = sc.fit_transform(x_train)\n",
        "x_test = sc.fit_transform(x_test)"
      ],
      "execution_count": null,
      "outputs": []
    },
    {
      "cell_type": "markdown",
      "metadata": {
        "id": "-AuA9SNOU9VK"
      },
      "source": [
        ""
      ]
    },
    {
      "cell_type": "markdown",
      "metadata": {
        "id": "qfqV0QghSQTE"
      },
      "source": [
        "# **4. ML Modelling**"
      ]
    },
    {
      "cell_type": "code",
      "metadata": {
        "colab": {
          "base_uri": "https://localhost:8080/"
        },
        "id": "vgAfFCw8uIlI",
        "outputId": "d848a18a-fa60-4dc6-df30-927370161eaa"
      },
      "source": [
        "#Import Gaussian Naive Bayes model\n",
        "from sklearn.naive_bayes import GaussianNB\n",
        "from sklearn.metrics import confusion_matrix\n",
        "from sklearn.metrics import accuracy_score\n",
        "from sklearn.metrics import classification_report\n",
        "\n",
        "#Create a Gaussian Classifier\n",
        "model = GaussianNB()\n",
        "print(model)"
      ],
      "execution_count": null,
      "outputs": [
        {
          "output_type": "stream",
          "text": [
            "GaussianNB(priors=None, var_smoothing=1e-09)\n"
          ],
          "name": "stdout"
        }
      ]
    },
    {
      "cell_type": "code",
      "metadata": {
        "colab": {
          "base_uri": "https://localhost:8080/"
        },
        "id": "Ee0svWHiS8zT",
        "outputId": "e4986b04-a527-4d1e-fead-06baf8a05eb0"
      },
      "source": [
        "# Train the model using the training sets\n",
        "import sklearn.metrics as metrics\n",
        "model.fit(x_train, y_train)\n",
        "\n",
        "y_pred = model.predict(x_test)\n",
        "\n",
        "cm = confusion_matrix(y_test, y_pred)\n",
        "acc = accuracy_score(y_test, y_pred)\n",
        "print(acc)\n",
        "print(cm)\n",
        "#classification report\n",
        "print(metrics.classification_report(y_test,y_pred))"
      ],
      "execution_count": null,
      "outputs": [
        {
          "output_type": "stream",
          "text": [
            "0.860078277886497\n",
            "[[861 116]\n",
            " [ 27  18]]\n",
            "              precision    recall  f1-score   support\n",
            "\n",
            "           0       0.97      0.88      0.92       977\n",
            "           1       0.13      0.40      0.20        45\n",
            "\n",
            "    accuracy                           0.86      1022\n",
            "   macro avg       0.55      0.64      0.56      1022\n",
            "weighted avg       0.93      0.86      0.89      1022\n",
            "\n"
          ],
          "name": "stdout"
        }
      ]
    },
    {
      "cell_type": "code",
      "metadata": {
        "colab": {
          "base_uri": "https://localhost:8080/"
        },
        "id": "xXV8uAa3UHwv",
        "outputId": "cbd6d12d-435f-4646-c006-8939a51f9faf"
      },
      "source": [
        "from sklearn.model_selection import train_test_split\n",
        "from sklearn.tree import DecisionTreeClassifier\n",
        "clf_tree = DecisionTreeClassifier( criterion=\"gini\", max_depth=4,random_state=1)\n",
        "\n",
        "clf_tree.fit(x_train, y_train)\n",
        "\n",
        "y_pred = clf_tree.predict(x_test)\n",
        "\n",
        "cm = confusion_matrix(y_test, y_pred)\n",
        "acc = accuracy_score(y_test, y_pred)\n",
        "print(acc)\n",
        "print(cm)\n",
        "#classification report\n",
        "print(metrics.classification_report(y_test,y_pred))"
      ],
      "execution_count": null,
      "outputs": [
        {
          "output_type": "stream",
          "text": [
            "0.9549902152641878\n",
            "[[976   1]\n",
            " [ 45   0]]\n",
            "              precision    recall  f1-score   support\n",
            "\n",
            "           0       0.96      1.00      0.98       977\n",
            "           1       0.00      0.00      0.00        45\n",
            "\n",
            "    accuracy                           0.95      1022\n",
            "   macro avg       0.48      0.50      0.49      1022\n",
            "weighted avg       0.91      0.95      0.93      1022\n",
            "\n"
          ],
          "name": "stdout"
        }
      ]
    },
    {
      "cell_type": "code",
      "metadata": {
        "colab": {
          "base_uri": "https://localhost:8080/"
        },
        "id": "ufWYSNb_UXOP",
        "outputId": "13cfcf84-03b5-47b6-f901-02d1b81d3b46"
      },
      "source": [
        "from sklearn.svm import SVC\n",
        "\n",
        "from sklearn import svm\n",
        "#create a classifier\n",
        "cls = svm.SVC(kernel=\"linear\")\n",
        "#train the model\n",
        "cls.fit(x_train, y_train)\n",
        "#predict the response\n",
        "pred = cls.predict(x_test)\n",
        "\n",
        "from sklearn import metrics\n",
        "#classification report\n",
        "print(metrics.classification_report(y_test,y_pred=pred))"
      ],
      "execution_count": null,
      "outputs": [
        {
          "output_type": "stream",
          "text": [
            "              precision    recall  f1-score   support\n",
            "\n",
            "           0       0.96      1.00      0.98       977\n",
            "           1       0.00      0.00      0.00        45\n",
            "\n",
            "    accuracy                           0.96      1022\n",
            "   macro avg       0.48      0.50      0.49      1022\n",
            "weighted avg       0.91      0.96      0.93      1022\n",
            "\n"
          ],
          "name": "stdout"
        },
        {
          "output_type": "stream",
          "text": [
            "/usr/local/lib/python3.7/dist-packages/sklearn/metrics/_classification.py:1272: UndefinedMetricWarning: Precision and F-score are ill-defined and being set to 0.0 in labels with no predicted samples. Use `zero_division` parameter to control this behavior.\n",
            "  _warn_prf(average, modifier, msg_start, len(result))\n"
          ],
          "name": "stderr"
        }
      ]
    },
    {
      "cell_type": "markdown",
      "metadata": {
        "id": "IrnS78XMpgD2"
      },
      "source": [
        "# **IMPLEMENTASI MODEL DEEP LEARNING**"
      ]
    },
    {
      "cell_type": "code",
      "metadata": {
        "id": "XSgDMlxCXZSW"
      },
      "source": [
        "# Melakukan Reshape pada variabel x_train dan x_test\n",
        "x_train = np.reshape(x_train, (x_train.shape[0], x_train.shape[1], 1))\n",
        "x_test = np.reshape(x_test, (x_test.shape[0], x_test.shape[1], 1))"
      ],
      "execution_count": null,
      "outputs": []
    },
    {
      "cell_type": "markdown",
      "metadata": {
        "id": "_NviO7Vypvr7"
      },
      "source": [
        "# **5. Model Conv1D**"
      ]
    },
    {
      "cell_type": "code",
      "metadata": {
        "id": "OsNUFJMspyTt",
        "colab": {
          "base_uri": "https://localhost:8080/"
        },
        "outputId": "65a2c160-8fcc-48b6-b7a3-013678d75727"
      },
      "source": [
        "# Membuat jaringan syarat tiruan untuk model CNN\n",
        "model = Sequential()\n",
        " \n",
        "# Membuat layer pertama\n",
        "model.add(Conv1D(filters=150, kernel_size=1, activation='relu', input_shape=(x_train.shape[1], x_train.shape[2])))\n",
        "# Menambahkan nilai dropout untuk mencegah overfitting\n",
        "model.add(Dropout(0.2))\n",
        "\n",
        "# Membuat lapisan/layer kedua\n",
        "model.add(Conv1D(filters=100, kernel_size=1, activation='relu', input_shape=(x_train.shape[1], x_train.shape[2])))\n",
        "# Menambahkan nilai dropout untuk mencegah overfitting\n",
        "model.add(Dropout(0.2))\n",
        "\n",
        "# manambah layer ketiga\n",
        "model.add(Conv1D(filters=10, kernel_size=1, activation='relu', input_shape=(x_train.shape[1], x_train.shape[2])))\n",
        "model.add(MaxPool1D(pool_size=2))\n",
        "model.add(Flatten())\n",
        "\n",
        "# Menambahkan lapisan paling luar\n",
        "model.add(Dense(1))\n",
        "# Melihat rancangan network CNN yang telah dibuat\n",
        "model.summary()\n",
        "\n",
        "opt = Adam(lr=.001)\n",
        " \n",
        "# Compile CNN dengan nilai opt, loss, dan matrics\n",
        "model.compile(optimizer =opt, loss = 'mean_squared_error', metrics=['accuracy'])"
      ],
      "execution_count": null,
      "outputs": [
        {
          "output_type": "stream",
          "text": [
            "Model: \"sequential\"\n",
            "_________________________________________________________________\n",
            "Layer (type)                 Output Shape              Param #   \n",
            "=================================================================\n",
            "conv1d (Conv1D)              (None, 10, 150)           300       \n",
            "_________________________________________________________________\n",
            "dropout (Dropout)            (None, 10, 150)           0         \n",
            "_________________________________________________________________\n",
            "conv1d_1 (Conv1D)            (None, 10, 100)           15100     \n",
            "_________________________________________________________________\n",
            "dropout_1 (Dropout)          (None, 10, 100)           0         \n",
            "_________________________________________________________________\n",
            "conv1d_2 (Conv1D)            (None, 10, 10)            1010      \n",
            "_________________________________________________________________\n",
            "max_pooling1d (MaxPooling1D) (None, 5, 10)             0         \n",
            "_________________________________________________________________\n",
            "flatten (Flatten)            (None, 50)                0         \n",
            "_________________________________________________________________\n",
            "dense (Dense)                (None, 1)                 51        \n",
            "=================================================================\n",
            "Total params: 16,461\n",
            "Trainable params: 16,461\n",
            "Non-trainable params: 0\n",
            "_________________________________________________________________\n"
          ],
          "name": "stdout"
        }
      ]
    },
    {
      "cell_type": "code",
      "metadata": {
        "colab": {
          "base_uri": "https://localhost:8080/"
        },
        "id": "_VowZ5gKqGbR",
        "outputId": "fa6d0f47-5f67-4b86-f67c-b088f7361d35"
      },
      "source": [
        "# Membuat model jaringan syaraf tiruan untuk model CNN\n",
        "history = model.fit(x_train, y_train, epochs = 20, batch_size = 250, validation_data=(x_test, y_test))"
      ],
      "execution_count": null,
      "outputs": [
        {
          "output_type": "stream",
          "text": [
            "Epoch 1/20\n",
            "17/17 [==============================] - 0s 29ms/step - loss: 0.0451 - accuracy: 0.9501 - val_loss: 0.0403 - val_accuracy: 0.9560\n",
            "Epoch 2/20\n",
            "17/17 [==============================] - 0s 28ms/step - loss: 0.0448 - accuracy: 0.9501 - val_loss: 0.0401 - val_accuracy: 0.9560\n",
            "Epoch 3/20\n",
            "17/17 [==============================] - 0s 26ms/step - loss: 0.0446 - accuracy: 0.9501 - val_loss: 0.0400 - val_accuracy: 0.9560\n",
            "Epoch 4/20\n",
            "17/17 [==============================] - 0s 26ms/step - loss: 0.0446 - accuracy: 0.9501 - val_loss: 0.0401 - val_accuracy: 0.9560\n",
            "Epoch 5/20\n",
            "17/17 [==============================] - 0s 26ms/step - loss: 0.0447 - accuracy: 0.9501 - val_loss: 0.0402 - val_accuracy: 0.9560\n",
            "Epoch 6/20\n",
            "17/17 [==============================] - 0s 26ms/step - loss: 0.0449 - accuracy: 0.9501 - val_loss: 0.0400 - val_accuracy: 0.9560\n",
            "Epoch 7/20\n",
            "17/17 [==============================] - 0s 25ms/step - loss: 0.0445 - accuracy: 0.9501 - val_loss: 0.0403 - val_accuracy: 0.9560\n",
            "Epoch 8/20\n",
            "17/17 [==============================] - 0s 25ms/step - loss: 0.0445 - accuracy: 0.9501 - val_loss: 0.0398 - val_accuracy: 0.9560\n",
            "Epoch 9/20\n",
            "17/17 [==============================] - 0s 25ms/step - loss: 0.0445 - accuracy: 0.9501 - val_loss: 0.0399 - val_accuracy: 0.9560\n",
            "Epoch 10/20\n",
            "17/17 [==============================] - 0s 25ms/step - loss: 0.0446 - accuracy: 0.9501 - val_loss: 0.0399 - val_accuracy: 0.9560\n",
            "Epoch 11/20\n",
            "17/17 [==============================] - 0s 25ms/step - loss: 0.0446 - accuracy: 0.9501 - val_loss: 0.0399 - val_accuracy: 0.9560\n",
            "Epoch 12/20\n",
            "17/17 [==============================] - 0s 25ms/step - loss: 0.0440 - accuracy: 0.9501 - val_loss: 0.0398 - val_accuracy: 0.9560\n",
            "Epoch 13/20\n",
            "17/17 [==============================] - 0s 25ms/step - loss: 0.0444 - accuracy: 0.9501 - val_loss: 0.0399 - val_accuracy: 0.9560\n",
            "Epoch 14/20\n",
            "17/17 [==============================] - 0s 25ms/step - loss: 0.0442 - accuracy: 0.9501 - val_loss: 0.0398 - val_accuracy: 0.9560\n",
            "Epoch 15/20\n",
            "17/17 [==============================] - 0s 25ms/step - loss: 0.0444 - accuracy: 0.9501 - val_loss: 0.0398 - val_accuracy: 0.9560\n",
            "Epoch 16/20\n",
            "17/17 [==============================] - 0s 25ms/step - loss: 0.0446 - accuracy: 0.9501 - val_loss: 0.0399 - val_accuracy: 0.9560\n",
            "Epoch 17/20\n",
            "17/17 [==============================] - 0s 25ms/step - loss: 0.0442 - accuracy: 0.9501 - val_loss: 0.0398 - val_accuracy: 0.9560\n",
            "Epoch 18/20\n",
            "17/17 [==============================] - 0s 25ms/step - loss: 0.0441 - accuracy: 0.9501 - val_loss: 0.0400 - val_accuracy: 0.9560\n",
            "Epoch 19/20\n",
            "17/17 [==============================] - 0s 25ms/step - loss: 0.0445 - accuracy: 0.9501 - val_loss: 0.0398 - val_accuracy: 0.9560\n",
            "Epoch 20/20\n",
            "17/17 [==============================] - 0s 26ms/step - loss: 0.0442 - accuracy: 0.9501 - val_loss: 0.0400 - val_accuracy: 0.9560\n"
          ],
          "name": "stdout"
        }
      ]
    },
    {
      "cell_type": "code",
      "metadata": {
        "colab": {
          "base_uri": "https://localhost:8080/"
        },
        "id": "eF7fwxMoqJKx",
        "outputId": "384c3647-be52-4913-cb4b-84651110ad3d"
      },
      "source": [
        "from sklearn.metrics import classification_report\n",
        "# Melakukan pengujian untuk variabel test dan variabel train\n",
        "print(\"------------Prediksi dari variabel test------------------\")\n",
        "y_pred_test = model.predict(x_test)\n",
        "print(y_pred_test)\n",
        "\n",
        "print(\"------------Prediksi dari variabel train-----------------\")\n",
        "y_pred_train = model.predict(x_train)\n",
        "print(y_pred_train)"
      ],
      "execution_count": null,
      "outputs": [
        {
          "output_type": "stream",
          "text": [
            "------------Prediksi dari variabel test------------------\n",
            "[[0.02627105]\n",
            " [0.05363292]\n",
            " [0.01621339]\n",
            " ...\n",
            " [0.13157707]\n",
            " [0.04201282]\n",
            " [0.0771184 ]]\n",
            "------------Prediksi dari variabel train-----------------\n",
            "[[0.09338869]\n",
            " [0.07009763]\n",
            " [0.17536628]\n",
            " ...\n",
            " [0.05448901]\n",
            " [0.01739026]\n",
            " [0.01965494]]\n"
          ],
          "name": "stdout"
        }
      ]
    },
    {
      "cell_type": "code",
      "metadata": {
        "id": "PsNKocQKqLj4",
        "colab": {
          "base_uri": "https://localhost:8080/"
        },
        "outputId": "d85e722a-4e2a-46d5-bed0-26a365ded188"
      },
      "source": [
        "# Menampilkan tingkat akurasi, precision, recall & f1-score dari model CNN\n",
        "print(\"-----------------------Variabel Test-------------------------------\")\n",
        "print(classification_report(y_test, y_pred_test.round()))\n",
        "\n",
        "print(\"-----------------------Variabel Train------------------------------\")\n",
        "print(classification_report(y_train, y_pred_train.round()))"
      ],
      "execution_count": null,
      "outputs": [
        {
          "output_type": "stream",
          "text": [
            "-----------------------Variabel Test-------------------------------\n",
            "              precision    recall  f1-score   support\n",
            "\n",
            "           0       0.96      1.00      0.98       977\n",
            "           1       0.00      0.00      0.00        45\n",
            "\n",
            "    accuracy                           0.96      1022\n",
            "   macro avg       0.48      0.50      0.49      1022\n",
            "weighted avg       0.91      0.96      0.93      1022\n",
            "\n",
            "-----------------------Variabel Train------------------------------\n",
            "              precision    recall  f1-score   support\n",
            "\n",
            "           0       0.95      1.00      0.97      3884\n",
            "           1       0.00      0.00      0.00       204\n",
            "\n",
            "    accuracy                           0.95      4088\n",
            "   macro avg       0.48      0.50      0.49      4088\n",
            "weighted avg       0.90      0.95      0.93      4088\n",
            "\n"
          ],
          "name": "stdout"
        },
        {
          "output_type": "stream",
          "text": [
            "/usr/local/lib/python3.7/dist-packages/sklearn/metrics/_classification.py:1272: UndefinedMetricWarning: Precision and F-score are ill-defined and being set to 0.0 in labels with no predicted samples. Use `zero_division` parameter to control this behavior.\n",
            "  _warn_prf(average, modifier, msg_start, len(result))\n"
          ],
          "name": "stderr"
        }
      ]
    },
    {
      "cell_type": "code",
      "metadata": {
        "id": "UX8mMTUbqNcd",
        "colab": {
          "base_uri": "https://localhost:8080/"
        },
        "outputId": "f1279316-eb1e-42a8-cf0b-69865968997b"
      },
      "source": [
        "print(\"Tingkat Akurasi Data Train Di CNN :\", model.evaluate(x_train, y_train))\n",
        "print(\"Tingkat Akurasi Data Test Di CNN :\", model.evaluate(x_test, y_test))"
      ],
      "execution_count": null,
      "outputs": [
        {
          "output_type": "stream",
          "text": [
            "128/128 [==============================] - 0s 2ms/step - loss: 0.0439 - accuracy: 0.9501\n",
            "Tingkat Akurasi Data Train Di CNN : [0.043869223445653915, 0.9500978589057922]\n",
            "32/32 [==============================] - 0s 1ms/step - loss: 0.0400 - accuracy: 0.9560\n",
            "Tingkat Akurasi Data Test Di CNN : [0.03998563438653946, 0.9559686779975891]\n"
          ],
          "name": "stdout"
        }
      ]
    },
    {
      "cell_type": "code",
      "metadata": {
        "id": "Lh0dPgTTqPF_",
        "colab": {
          "base_uri": "https://localhost:8080/",
          "height": 367
        },
        "outputId": "26d84961-93f3-4f0e-b7cd-0afa4ca97a5d"
      },
      "source": [
        "# Membuat visualisasi dari hasil neural network antara loss, validation loss dan akurasi, validation akurasi\n",
        "plt.figure(figsize=(15,5))\n",
        "\n",
        "# Membuat visualisasi untuk nilai loss dan validation loss\n",
        "plt.subplot(1,2,1)\n",
        "plt.plot(history.history['loss'], color=\"blue\", label=\"Loss\")\n",
        "plt.plot(history.history['val_loss'], color=\"green\", label=\"Validation Loss\")\n",
        "plt.title(\"Visualisasi untuk nilai loss & validation loss\")\n",
        "plt.xlabel(\"Jumlah Epochs\")\n",
        "plt.legend()"
      ],
      "execution_count": null,
      "outputs": [
        {
          "output_type": "execute_result",
          "data": {
            "text/plain": [
              "<matplotlib.legend.Legend at 0x7f9651cd49d0>"
            ]
          },
          "metadata": {
            "tags": []
          },
          "execution_count": 45
        },
        {
          "output_type": "display_data",
          "data": {
            "image/png": "[encoded data removed]",
            "text/plain": [
              "<Figure size 1080x360 with 1 Axes>"
            ]
          },
          "metadata": {
            "tags": [],
            "needs_background": "light"
          }
        }
      ]
    },
    {
      "cell_type": "markdown",
      "metadata": {
        "id": "XmkGyrRyrOh5"
      },
      "source": [
        "# **6. Model RNN GRU**"
      ]
    },
    {
      "cell_type": "code",
      "metadata": {
        "id": "UNcEj0uDrd5-",
        "colab": {
          "base_uri": "https://localhost:8080/"
        },
        "outputId": "31023d55-1782-4dc5-e7f8-67ecbf98f34f"
      },
      "source": [
        "# Membuat jaringan syarat tiruan untuk model RNN dengan layer GRU\n",
        "model = Sequential()\n",
        " \n",
        "# Menambah layer RNN yang pertama dan Dropout regularisation\n",
        "model.add(GRU(units = 150, return_sequences = True, input_shape = (x_train.shape[1], 1)))\n",
        "model.add(Dropout(0.2))\n",
        " \n",
        "# Menambah layer RNN yang kedua dan Dropout regularisation\n",
        "model.add(GRU(units = 100, return_sequences = True))\n",
        "model.add(Dropout(0.2))\n",
        " \n",
        "# Menambah layer RNN yang ketiga dan Dropout regularisation\n",
        "model.add(GRU(units = 50, return_sequences = True))\n",
        "model.add(Dropout(0.2))\n",
        " \n",
        "# Menambah layer RNN yang keempat dan Dropout regularisation\n",
        "model.add(GRU(units = 23))\n",
        "model.add(Dropout(0.2))\n",
        "\n",
        "# Menambah layer output dan dropout regularisation\n",
        "model.add(Dense(units = 1))\n",
        "model.add(Dropout(0.2))\n",
        "\n",
        "# Melihat rancangan neural network pada model RNN\n",
        "model.summary()\n",
        "\n",
        "opt = Adam(lr=.001)\n",
        " \n",
        "# Compile RNN dengan nilai opt, loss, dan matrics\n",
        "model.compile(optimizer =opt, loss = 'mean_squared_error', metrics=['accuracy'])"
      ],
      "execution_count": null,
      "outputs": [
        {
          "output_type": "stream",
          "text": [
            "Model: \"sequential_1\"\n",
            "_________________________________________________________________\n",
            "Layer (type)                 Output Shape              Param #   \n",
            "=================================================================\n",
            "gru (GRU)                    (None, 10, 150)           68850     \n",
            "_________________________________________________________________\n",
            "dropout_2 (Dropout)          (None, 10, 150)           0         \n",
            "_________________________________________________________________\n",
            "gru_1 (GRU)                  (None, 10, 100)           75600     \n",
            "_________________________________________________________________\n",
            "dropout_3 (Dropout)          (None, 10, 100)           0         \n",
            "_________________________________________________________________\n",
            "gru_2 (GRU)                  (None, 10, 50)            22800     \n",
            "_________________________________________________________________\n",
            "dropout_4 (Dropout)          (None, 10, 50)            0         \n",
            "_________________________________________________________________\n",
            "gru_3 (GRU)                  (None, 23)                5175      \n",
            "_________________________________________________________________\n",
            "dropout_5 (Dropout)          (None, 23)                0         \n",
            "_________________________________________________________________\n",
            "dense_1 (Dense)              (None, 1)                 24        \n",
            "_________________________________________________________________\n",
            "dropout_6 (Dropout)          (None, 1)                 0         \n",
            "=================================================================\n",
            "Total params: 172,449\n",
            "Trainable params: 172,449\n",
            "Non-trainable params: 0\n",
            "_________________________________________________________________\n"
          ],
          "name": "stdout"
        }
      ]
    },
    {
      "cell_type": "code",
      "metadata": {
        "id": "Wto_cws7riaI",
        "colab": {
          "base_uri": "https://localhost:8080/"
        },
        "outputId": "a81b99f5-6c30-4ed6-be01-ad4bbe918e64"
      },
      "source": [
        "# Membuat model jaringan syaraf tiruan untuk model RNN dengan layer GRU \n",
        "history = model.fit(x_train, y_train, epochs = 20, batch_size = 100, validation_data=(x_test, y_test))"
      ],
      "execution_count": null,
      "outputs": [
        {
          "output_type": "stream",
          "text": [
            "Epoch 1/20\n",
            "41/41 [==============================] - 11s 106ms/step - loss: 0.0502 - accuracy: 0.9487 - val_loss: 0.0409 - val_accuracy: 0.9560\n",
            "Epoch 2/20\n",
            "41/41 [==============================] - 3s 75ms/step - loss: 0.0430 - accuracy: 0.9555 - val_loss: 0.0410 - val_accuracy: 0.9560\n",
            "Epoch 3/20\n",
            "41/41 [==============================] - 3s 74ms/step - loss: 0.0462 - accuracy: 0.9526 - val_loss: 0.0411 - val_accuracy: 0.9560\n",
            "Epoch 4/20\n",
            "41/41 [==============================] - 3s 74ms/step - loss: 0.0454 - accuracy: 0.9517 - val_loss: 0.0415 - val_accuracy: 0.9560\n",
            "Epoch 5/20\n",
            "41/41 [==============================] - 3s 74ms/step - loss: 0.0455 - accuracy: 0.9525 - val_loss: 0.0407 - val_accuracy: 0.9560\n",
            "Epoch 6/20\n",
            "41/41 [==============================] - 3s 74ms/step - loss: 0.0432 - accuracy: 0.9546 - val_loss: 0.0411 - val_accuracy: 0.9560\n",
            "Epoch 7/20\n",
            "41/41 [==============================] - 3s 74ms/step - loss: 0.0516 - accuracy: 0.9448 - val_loss: 0.0407 - val_accuracy: 0.9560\n",
            "Epoch 8/20\n",
            "41/41 [==============================] - 3s 74ms/step - loss: 0.0475 - accuracy: 0.9488 - val_loss: 0.0404 - val_accuracy: 0.9560\n",
            "Epoch 9/20\n",
            "41/41 [==============================] - 3s 74ms/step - loss: 0.0434 - accuracy: 0.9543 - val_loss: 0.0404 - val_accuracy: 0.9560\n",
            "Epoch 10/20\n",
            "41/41 [==============================] - 3s 74ms/step - loss: 0.0473 - accuracy: 0.9497 - val_loss: 0.0406 - val_accuracy: 0.9560\n",
            "Epoch 11/20\n",
            "41/41 [==============================] - 3s 74ms/step - loss: 0.0467 - accuracy: 0.9506 - val_loss: 0.0406 - val_accuracy: 0.9560\n",
            "Epoch 12/20\n",
            "41/41 [==============================] - 3s 74ms/step - loss: 0.0498 - accuracy: 0.9458 - val_loss: 0.0406 - val_accuracy: 0.9560\n",
            "Epoch 13/20\n",
            "41/41 [==============================] - 3s 74ms/step - loss: 0.0479 - accuracy: 0.9480 - val_loss: 0.0407 - val_accuracy: 0.9560\n",
            "Epoch 14/20\n",
            "41/41 [==============================] - 3s 74ms/step - loss: 0.0457 - accuracy: 0.9508 - val_loss: 0.0401 - val_accuracy: 0.9560\n",
            "Epoch 15/20\n",
            "41/41 [==============================] - 3s 73ms/step - loss: 0.0434 - accuracy: 0.9541 - val_loss: 0.0401 - val_accuracy: 0.9560\n",
            "Epoch 16/20\n",
            "41/41 [==============================] - 3s 74ms/step - loss: 0.0498 - accuracy: 0.9471 - val_loss: 0.0402 - val_accuracy: 0.9560\n",
            "Epoch 17/20\n",
            "41/41 [==============================] - 3s 74ms/step - loss: 0.0488 - accuracy: 0.9469 - val_loss: 0.0401 - val_accuracy: 0.9560\n",
            "Epoch 18/20\n",
            "41/41 [==============================] - 3s 74ms/step - loss: 0.0463 - accuracy: 0.9501 - val_loss: 0.0402 - val_accuracy: 0.9560\n",
            "Epoch 19/20\n",
            "41/41 [==============================] - 3s 72ms/step - loss: 0.0465 - accuracy: 0.9503 - val_loss: 0.0405 - val_accuracy: 0.9560\n",
            "Epoch 20/20\n",
            "41/41 [==============================] - 3s 73ms/step - loss: 0.0457 - accuracy: 0.9499 - val_loss: 0.0403 - val_accuracy: 0.9560\n"
          ],
          "name": "stdout"
        }
      ]
    },
    {
      "cell_type": "code",
      "metadata": {
        "id": "6VC0BLV9uE7I",
        "colab": {
          "base_uri": "https://localhost:8080/"
        },
        "outputId": "988a7275-774a-47cf-e0df-b3840c66cde6"
      },
      "source": [
        "from sklearn.metrics import classification_report\n",
        "# Melakukan pengujian untuk variabel test dan variabel train\n",
        "print(\"------------Prediksi dari variabel test------------------\")\n",
        "y_pred_test = model.predict(x_test)\n",
        "print(y_pred_test)\n",
        "\n",
        "print(\"------------Prediksi dari variabel train-----------------\")\n",
        "y_pred_train = model.predict(x_train)\n",
        "print(y_pred_train)"
      ],
      "execution_count": null,
      "outputs": [
        {
          "output_type": "stream",
          "text": [
            "------------Prediksi dari variabel test------------------\n",
            "[[0.02568712]\n",
            " [0.06146633]\n",
            " [0.0506009 ]\n",
            " ...\n",
            " [0.08373258]\n",
            " [0.03521054]\n",
            " [0.04394751]]\n",
            "------------Prediksi dari variabel train-----------------\n",
            "[[0.04859834]\n",
            " [0.05395908]\n",
            " [0.09024334]\n",
            " ...\n",
            " [0.05440899]\n",
            " [0.01311413]\n",
            " [0.0310502 ]]\n"
          ],
          "name": "stdout"
        }
      ]
    },
    {
      "cell_type": "code",
      "metadata": {
        "id": "oq7TojO7uQ6n",
        "colab": {
          "base_uri": "https://localhost:8080/"
        },
        "outputId": "21adb3de-f657-4f47-bd5d-eb9e5678a350"
      },
      "source": [
        "# Menampilkan tingkat akurasi, precision, recall & f1-score dari model RNN\n",
        "\n",
        "print(\"-----------------------Variabel Test-------------------------------\")\n",
        "print(classification_report(y_test, y_pred_test.round()))\n",
        "\n",
        "print(\"-----------------------Variabel Train------------------------------\")\n",
        "print(classification_report(y_train, y_pred_train.round()))"
      ],
      "execution_count": null,
      "outputs": [
        {
          "output_type": "stream",
          "text": [
            "-----------------------Variabel Test-------------------------------\n",
            "              precision    recall  f1-score   support\n",
            "\n",
            "           0       0.96      1.00      0.98       977\n",
            "           1       0.00      0.00      0.00        45\n",
            "\n",
            "    accuracy                           0.96      1022\n",
            "   macro avg       0.48      0.50      0.49      1022\n",
            "weighted avg       0.91      0.96      0.93      1022\n",
            "\n",
            "-----------------------Variabel Train------------------------------\n",
            "              precision    recall  f1-score   support\n",
            "\n",
            "           0       0.95      1.00      0.97      3884\n",
            "           1       0.00      0.00      0.00       204\n",
            "\n",
            "    accuracy                           0.95      4088\n",
            "   macro avg       0.48      0.50      0.49      4088\n",
            "weighted avg       0.90      0.95      0.93      4088\n",
            "\n"
          ],
          "name": "stdout"
        },
        {
          "output_type": "stream",
          "text": [
            "/usr/local/lib/python3.7/dist-packages/sklearn/metrics/_classification.py:1272: UndefinedMetricWarning: Precision and F-score are ill-defined and being set to 0.0 in labels with no predicted samples. Use `zero_division` parameter to control this behavior.\n",
            "  _warn_prf(average, modifier, msg_start, len(result))\n"
          ],
          "name": "stderr"
        }
      ]
    },
    {
      "cell_type": "code",
      "metadata": {
        "colab": {
          "base_uri": "https://localhost:8080/"
        },
        "id": "moipP0u0W1A_",
        "outputId": "98c15eeb-8a29-4ac5-f141-17fc40ac4c14"
      },
      "source": [
        "print(\"Akurasi Data Train Di RNN:\", model.evaluate(x_train, y_train))\n",
        "print(\"Akurasi Data Test Di RNN:\", model.evaluate(x_test, y_test))"
      ],
      "execution_count": null,
      "outputs": [
        {
          "output_type": "stream",
          "text": [
            "128/128 [==============================] - 1s 8ms/step - loss: 0.0454 - accuracy: 0.9501\n",
            "Akurasi Data Train Di RNN: [0.045406606048345566, 0.9500978589057922]\n",
            "32/32 [==============================] - 0s 9ms/step - loss: 0.0403 - accuracy: 0.9560\n",
            "Akurasi Data Test Di RNN: [0.04028851538896561, 0.9559686779975891]\n"
          ],
          "name": "stdout"
        }
      ]
    },
    {
      "cell_type": "code",
      "metadata": {
        "colab": {
          "base_uri": "https://localhost:8080/",
          "height": 367
        },
        "id": "yf2ky0iUW6AT",
        "outputId": "333368e0-9130-44e1-88d8-e7cf27784007"
      },
      "source": [
        "# Membuat visualisasi dari hasil neural network antara loss, validation loss dan akurasi, validation akurasi\n",
        "\n",
        "plt.figure(figsize=(15,5))\n",
        "# Membuat visualisasi untuk nilai loss dan validation loss\n",
        "plt.subplot(1,2,1)\n",
        "plt.plot(history.history['loss'], color=\"blue\", label=\"Loss\")\n",
        "plt.plot(history.history['val_loss'], color=\"green\", label=\"Validation Loss\")\n",
        "plt.title(\"Visualisasi untuk nilai loss & validation loss\")\n",
        "plt.xlabel(\"Epoch\")\n",
        "plt.legend()"
      ],
      "execution_count": null,
      "outputs": [
        {
          "output_type": "execute_result",
          "data": {
            "text/plain": [
              "<matplotlib.legend.Legend at 0x7f964ed68050>"
            ]
          },
          "metadata": {
            "tags": []
          },
          "execution_count": 51
        },
        {
          "output_type": "display_data",
          "data": {
            "image/png": "[encoded data removed]",
            "text/plain": [
              "<Figure size 1080x360 with 1 Axes>"
            ]
          },
          "metadata": {
            "tags": [],
            "needs_background": "light"
          }
        }
      ]
    },
    {
      "cell_type": "markdown",
      "metadata": {
        "id": "01hYYdwhvbX4"
      },
      "source": [
        "# **7. Model RNN LSTM**"
      ]
    },
    {
      "cell_type": "code",
      "metadata": {
        "id": "5wshwd6VvogY",
        "colab": {
          "base_uri": "https://localhost:8080/"
        },
        "outputId": "cf01244c-54b1-4a28-c6ee-f55d1a9d82f1"
      },
      "source": [
        "# Membuat jaringan syarat tiruan untuk model RNN dengan layer LSTM\n",
        "model = Sequential()\n",
        " \n",
        "# Menambah layer RNN yang pertama dan Dropout regularisation\n",
        "model.add(LSTM(units = 150, return_sequences = True, input_shape = (x_train.shape[1], 1)))\n",
        "model.add(Dropout(0.2))\n",
        " \n",
        "# Menambah layer RNN yang kedua dan Dropout regularisation\n",
        "model.add(LSTM(units = 100, return_sequences = True))\n",
        "model.add(Dropout(0.2))\n",
        " \n",
        "# Menambah layer RNN yang ketiga dan Dropout regularisation\n",
        "model.add(LSTM(units = 50, return_sequences = True))\n",
        "model.add(Dropout(0.2))\n",
        " \n",
        "# Menambah layer RNN yang keempat dan Dropout regularisation\n",
        "model.add(LSTM(units = 23))\n",
        "model.add(Dropout(0.2))\n",
        "\n",
        "# Menambah layer output dan dropout regularisation\n",
        "model.add(Dense(units = 1))\n",
        "model.add(Dropout(0.2))\n",
        "\n",
        "# Melihat rancangan neural network pada model RNN\n",
        "model.summary()\n",
        "\n",
        "opt = Adam(lr=.001)\n",
        " \n",
        "# Compile RNN dengan nilai opt, loss, dan matrics\n",
        "model.compile(optimizer =opt, loss = 'mean_squared_error', metrics=['accuracy'])"
      ],
      "execution_count": null,
      "outputs": [
        {
          "output_type": "stream",
          "text": [
            "Model: \"sequential_2\"\n",
            "_________________________________________________________________\n",
            "Layer (type)                 Output Shape              Param #   \n",
            "=================================================================\n",
            "lstm (LSTM)                  (None, 10, 150)           91200     \n",
            "_________________________________________________________________\n",
            "dropout_7 (Dropout)          (None, 10, 150)           0         \n",
            "_________________________________________________________________\n",
            "lstm_1 (LSTM)                (None, 10, 100)           100400    \n",
            "_________________________________________________________________\n",
            "dropout_8 (Dropout)          (None, 10, 100)           0         \n",
            "_________________________________________________________________\n",
            "lstm_2 (LSTM)                (None, 10, 50)            30200     \n",
            "_________________________________________________________________\n",
            "dropout_9 (Dropout)          (None, 10, 50)            0         \n",
            "_________________________________________________________________\n",
            "lstm_3 (LSTM)                (None, 23)                6808      \n",
            "_________________________________________________________________\n",
            "dropout_10 (Dropout)         (None, 23)                0         \n",
            "_________________________________________________________________\n",
            "dense_2 (Dense)              (None, 1)                 24        \n",
            "_________________________________________________________________\n",
            "dropout_11 (Dropout)         (None, 1)                 0         \n",
            "=================================================================\n",
            "Total params: 228,632\n",
            "Trainable params: 228,632\n",
            "Non-trainable params: 0\n",
            "_________________________________________________________________\n"
          ],
          "name": "stdout"
        }
      ]
    },
    {
      "cell_type": "code",
      "metadata": {
        "id": "QUr4KmULvrlX",
        "colab": {
          "base_uri": "https://localhost:8080/"
        },
        "outputId": "7d018d9b-d8a4-4831-cc7d-8a0e3a4879e3"
      },
      "source": [
        "# Membuat model jaringan syaraf tiruan untuk model RNN dengan layer LSTM \n",
        "history = model.fit(x_train, y_train, epochs = 20, batch_size = 100, validation_data=(x_test, y_test))"
      ],
      "execution_count": null,
      "outputs": [
        {
          "output_type": "stream",
          "text": [
            "Epoch 1/20\n",
            "41/41 [==============================] - 11s 121ms/step - loss: 0.0466 - accuracy: 0.9508 - val_loss: 0.0410 - val_accuracy: 0.9560\n",
            "Epoch 2/20\n",
            "41/41 [==============================] - 3s 84ms/step - loss: 0.0430 - accuracy: 0.9544 - val_loss: 0.0407 - val_accuracy: 0.9560\n",
            "Epoch 3/20\n",
            "41/41 [==============================] - 3s 85ms/step - loss: 0.0461 - accuracy: 0.9508 - val_loss: 0.0418 - val_accuracy: 0.9560\n",
            "Epoch 4/20\n",
            "41/41 [==============================] - 3s 84ms/step - loss: 0.0459 - accuracy: 0.9505 - val_loss: 0.0407 - val_accuracy: 0.9560\n",
            "Epoch 5/20\n",
            "41/41 [==============================] - 3s 85ms/step - loss: 0.0440 - accuracy: 0.9528 - val_loss: 0.0408 - val_accuracy: 0.9560\n",
            "Epoch 6/20\n",
            "41/41 [==============================] - 3s 85ms/step - loss: 0.0476 - accuracy: 0.9488 - val_loss: 0.0407 - val_accuracy: 0.9560\n",
            "Epoch 7/20\n",
            "41/41 [==============================] - 3s 84ms/step - loss: 0.0438 - accuracy: 0.9532 - val_loss: 0.0411 - val_accuracy: 0.9560\n",
            "Epoch 8/20\n",
            "41/41 [==============================] - 3s 85ms/step - loss: 0.0464 - accuracy: 0.9500 - val_loss: 0.0406 - val_accuracy: 0.9560\n",
            "Epoch 9/20\n",
            "41/41 [==============================] - 3s 85ms/step - loss: 0.0450 - accuracy: 0.9521 - val_loss: 0.0406 - val_accuracy: 0.9560\n",
            "Epoch 10/20\n",
            "41/41 [==============================] - 3s 84ms/step - loss: 0.0485 - accuracy: 0.9484 - val_loss: 0.0407 - val_accuracy: 0.9560\n",
            "Epoch 11/20\n",
            "41/41 [==============================] - 3s 85ms/step - loss: 0.0459 - accuracy: 0.9498 - val_loss: 0.0409 - val_accuracy: 0.9560\n",
            "Epoch 12/20\n",
            "41/41 [==============================] - 3s 85ms/step - loss: 0.0397 - accuracy: 0.9567 - val_loss: 0.0409 - val_accuracy: 0.9560\n",
            "Epoch 13/20\n",
            "41/41 [==============================] - 3s 85ms/step - loss: 0.0439 - accuracy: 0.9538 - val_loss: 0.0407 - val_accuracy: 0.9560\n",
            "Epoch 14/20\n",
            "41/41 [==============================] - 3s 83ms/step - loss: 0.0465 - accuracy: 0.9499 - val_loss: 0.0406 - val_accuracy: 0.9560\n",
            "Epoch 15/20\n",
            "41/41 [==============================] - 4s 86ms/step - loss: 0.0477 - accuracy: 0.9484 - val_loss: 0.0407 - val_accuracy: 0.9560\n",
            "Epoch 16/20\n",
            "41/41 [==============================] - 3s 85ms/step - loss: 0.0487 - accuracy: 0.9468 - val_loss: 0.0404 - val_accuracy: 0.9560\n",
            "Epoch 17/20\n",
            "41/41 [==============================] - 3s 85ms/step - loss: 0.0455 - accuracy: 0.9517 - val_loss: 0.0410 - val_accuracy: 0.9560\n",
            "Epoch 18/20\n",
            "41/41 [==============================] - 3s 84ms/step - loss: 0.0429 - accuracy: 0.9548 - val_loss: 0.0408 - val_accuracy: 0.9560\n",
            "Epoch 19/20\n",
            "41/41 [==============================] - 3s 85ms/step - loss: 0.0453 - accuracy: 0.9501 - val_loss: 0.0402 - val_accuracy: 0.9560\n",
            "Epoch 20/20\n",
            "41/41 [==============================] - 3s 85ms/step - loss: 0.0445 - accuracy: 0.9522 - val_loss: 0.0399 - val_accuracy: 0.9560\n"
          ],
          "name": "stdout"
        }
      ]
    },
    {
      "cell_type": "code",
      "metadata": {
        "id": "DyUijcd-vxDS",
        "colab": {
          "base_uri": "https://localhost:8080/"
        },
        "outputId": "cd87fead-8950-4b36-b327-204b7e4f6899"
      },
      "source": [
        "from sklearn.metrics import classification_report\n",
        "# Melakukan pengujian untuk variabel test dan variabel train\n",
        "print(\"------------Prediksi dari variabel test------------------\")\n",
        "y_pred_test = model.predict(x_test)\n",
        "print(y_pred_test)\n",
        "\n",
        "print(\"------------Prediksi dari variabel train-----------------\")\n",
        "y_pred_train = model.predict(x_train)\n",
        "print(y_pred_train)"
      ],
      "execution_count": null,
      "outputs": [
        {
          "output_type": "stream",
          "text": [
            "------------Prediksi dari variabel test------------------\n",
            "[[-0.00394322]\n",
            " [ 0.04454249]\n",
            " [ 0.00095494]\n",
            " ...\n",
            " [ 0.13436042]\n",
            " [ 0.00058824]\n",
            " [ 0.02682848]]\n",
            "------------Prediksi dari variabel train-----------------\n",
            "[[ 0.0456508 ]\n",
            " [ 0.08696242]\n",
            " [ 0.16768323]\n",
            " ...\n",
            " [ 0.00478775]\n",
            " [-0.01009513]\n",
            " [ 0.00893169]]\n"
          ],
          "name": "stdout"
        }
      ]
    },
    {
      "cell_type": "code",
      "metadata": {
        "id": "S3qaeH-Rv2Q9",
        "colab": {
          "base_uri": "https://localhost:8080/"
        },
        "outputId": "bce132c1-0980-47ce-ae71-7467255f94a6"
      },
      "source": [
        "# Menampilkan tingkat akurasi, precision, recall & f1-score dari model RNN\n",
        "\n",
        "print(\"-----------------------Variabel Test-------------------------------\")\n",
        "print(classification_report(y_test, y_pred_test.round()))\n",
        "\n",
        "print(\"-----------------------Variabel Train------------------------------\")\n",
        "print(classification_report(y_train, y_pred_train.round()))"
      ],
      "execution_count": null,
      "outputs": [
        {
          "output_type": "stream",
          "text": [
            "-----------------------Variabel Test-------------------------------\n",
            "              precision    recall  f1-score   support\n",
            "\n",
            "           0       0.96      1.00      0.98       977\n",
            "           1       0.00      0.00      0.00        45\n",
            "\n",
            "    accuracy                           0.96      1022\n",
            "   macro avg       0.48      0.50      0.49      1022\n",
            "weighted avg       0.91      0.96      0.93      1022\n",
            "\n",
            "-----------------------Variabel Train------------------------------\n",
            "              precision    recall  f1-score   support\n",
            "\n",
            "           0       0.95      1.00      0.97      3884\n",
            "           1       0.00      0.00      0.00       204\n",
            "\n",
            "    accuracy                           0.95      4088\n",
            "   macro avg       0.48      0.50      0.49      4088\n",
            "weighted avg       0.90      0.95      0.93      4088\n",
            "\n"
          ],
          "name": "stdout"
        },
        {
          "output_type": "stream",
          "text": [
            "/usr/local/lib/python3.7/dist-packages/sklearn/metrics/_classification.py:1272: UndefinedMetricWarning: Precision and F-score are ill-defined and being set to 0.0 in labels with no predicted samples. Use `zero_division` parameter to control this behavior.\n",
            "  _warn_prf(average, modifier, msg_start, len(result))\n"
          ],
          "name": "stderr"
        }
      ]
    },
    {
      "cell_type": "code",
      "metadata": {
        "colab": {
          "base_uri": "https://localhost:8080/"
        },
        "id": "OKXbJXoMj85s",
        "outputId": "a5598620-541e-432d-ee50-944ac7cbfc94"
      },
      "source": [
        "print(\"Akurasi Data Train Di RNN:\", model.evaluate(x_train, y_train))\n",
        "print(\"Akurasi Data Test Di RNN:\", model.evaluate(x_test, y_test))"
      ],
      "execution_count": null,
      "outputs": [
        {
          "output_type": "stream",
          "text": [
            "128/128 [==============================] - 1s 10ms/step - loss: 0.0443 - accuracy: 0.9501\n",
            "Akurasi Data Train Di RNN: [0.04430205002427101, 0.9500978589057922]\n",
            "32/32 [==============================] - 0s 10ms/step - loss: 0.0399 - accuracy: 0.9560\n",
            "Akurasi Data Test Di RNN: [0.03992284834384918, 0.9559686779975891]\n"
          ],
          "name": "stdout"
        }
      ]
    },
    {
      "cell_type": "code",
      "metadata": {
        "colab": {
          "base_uri": "https://localhost:8080/",
          "height": 367
        },
        "id": "pHrjpZz-j93F",
        "outputId": "3fc0d8d4-637b-4738-b602-ac942f318af9"
      },
      "source": [
        "# Membuat visualisasi dari hasil neural network antara loss, validation loss dan akurasi, validation akurasi\n",
        "\n",
        "plt.figure(figsize=(15,5))\n",
        "# Membuat visualisasi untuk nilai loss dan validation loss\n",
        "plt.subplot(1,2,1)\n",
        "plt.plot(history.history['loss'], color=\"blue\", label=\"Loss\")\n",
        "plt.plot(history.history['val_loss'], color=\"green\", label=\"Validation Loss\")\n",
        "plt.title(\"Visualisasi untuk nilai loss & validation loss\")\n",
        "plt.xlabel(\"Epoch\")\n",
        "plt.legend()"
      ],
      "execution_count": null,
      "outputs": [
        {
          "output_type": "execute_result",
          "data": {
            "text/plain": [
              "<matplotlib.legend.Legend at 0x7f964f3b5450>"
            ]
          },
          "metadata": {
            "tags": []
          },
          "execution_count": 57
        },
        {
          "output_type": "display_data",
          "data": {
            "image/png": "[encoded data removed]",
            "text/plain": [
              "<Figure size 1080x360 with 1 Axes>"
            ]
          },
          "metadata": {
            "tags": [],
            "needs_background": "light"
          }
        }
      ]
    }
  ]
}